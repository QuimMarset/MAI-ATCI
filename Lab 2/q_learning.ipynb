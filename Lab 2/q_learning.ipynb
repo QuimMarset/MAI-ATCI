{
 "cells": [
  {
   "cell_type": "markdown",
   "metadata": {},
   "source": [
    "# Introduction to OpenGym using the CartPole problem\n",
    "\n",
    "OpenGym is an standard testbed for RL algorithms. \n",
    "\n",
    "https://gym.openai.com/envs/#classic_control\n",
    "\n",
    "In this notebook we test our own implementation of Q-learning (see slides of Lecture 2) with OpenGym in the CartPole environment (see slides of Lecture 1)."
   ]
  },
  {
   "cell_type": "code",
   "execution_count": 1,
   "metadata": {},
   "outputs": [
    {
     "data": {
      "text/plain": [
       "array([-0.00680844,  0.02471898,  0.04194411,  0.02364667], dtype=float32)"
      ]
     },
     "execution_count": 1,
     "metadata": {},
     "output_type": "execute_result"
    }
   ],
   "source": [
    "import numpy as np\n",
    "import math\n",
    "import matplotlib.pyplot as plt\n",
    "import seaborn as sns\n",
    "from collections import deque\n",
    "import pandas as pd\n",
    "\n",
    "import gym\n",
    "env = gym.make('CartPole-v1')\n",
    "env.reset()"
   ]
  },
  {
   "cell_type": "markdown",
   "metadata": {},
   "source": [
    "## Description of the environment\n",
    "\n",
    "OpenGym has not very good documentation. Usually you have to go to code to understand the details of the environment you want to use.\n",
    "\n",
    "In the case of the CartPole, go to:\n",
    "\n",
    "https://gym.openai.com/envs/CartPole-v1/\n",
    "\n",
    "Fortunately, there are some functions implemented that show the minimum necessary information to run the RL algorithms."
   ]
  },
  {
   "cell_type": "code",
   "execution_count": 2,
   "metadata": {},
   "outputs": [
    {
     "name": "stdout",
     "output_type": "stream",
     "text": [
      "Discrete(2)\n"
     ]
    }
   ],
   "source": [
    "# Two discrete actions in the environment (push towards each direction)\n",
    "print(env.action_space)"
   ]
  },
  {
   "cell_type": "markdown",
   "metadata": {},
   "source": [
    "Means 2 discrete possible actions. In this case:\n",
    "\n",
    "<table>\n",
    "<thead>\n",
    "<tr>\n",
    "<th>Num</th>\n",
    "<th>Action</th>\n",
    "</tr>\n",
    "</thead>\n",
    "<tbody>\n",
    "<tr>\n",
    "<td>0</td>\n",
    "<td>Push cart to the left</td>\n",
    "</tr>\n",
    "<tr>\n",
    "<td>1</td>\n",
    "<td>Push cart to the right</td>\n",
    "    </tr>\n",
    "</table>\n",
    "    \n",
    "Not because I found this information in documentation of the environment but in the code of the environment (https://github.com/openai/gym/blob/master/gym/envs/classic_control/cartpole.py#L13)"
   ]
  },
  {
   "cell_type": "code",
   "execution_count": 3,
   "metadata": {},
   "outputs": [
    {
     "name": "stdout",
     "output_type": "stream",
     "text": [
      "Box([-4.8000002e+00 -3.4028235e+38 -4.1887903e-01 -3.4028235e+38], [4.8000002e+00 3.4028235e+38 4.1887903e-01 3.4028235e+38], (4,), float32)\n"
     ]
    }
   ],
   "source": [
    "# Four dimensional space.\n",
    "print(env.observation_space)"
   ]
  },
  {
   "cell_type": "markdown",
   "metadata": {},
   "source": [
    "That means *4 variables \"Continuous with Bounds\"* (box). \n",
    "\n",
    "There also exist **Discrete** observations.\n",
    "\n",
    "They can be organized as:\n",
    "\n",
    "- **Dictionary**, fi. Dict({\"position\": Discrete(5), \"velocity\": Box(low=np.array([0,0]),high=np.array([1,5]))}),\n",
    "- **Tuples** , fi. Tuple([Discrete(5), Box(low=np.array([0,0]),high=np.array([1,5]))]),\n",
    "- **Multidiscrete**, fi. MultiDiscrete([ 2, 2, 100]),"
   ]
  },
  {
   "cell_type": "code",
   "execution_count": 4,
   "metadata": {},
   "outputs": [
    {
     "name": "stdout",
     "output_type": "stream",
     "text": [
      "[4.8000002e+00 3.4028235e+38 4.1887903e-01 3.4028235e+38]\n",
      "[-4.8000002e+00 -3.4028235e+38 -4.1887903e-01 -3.4028235e+38]\n"
     ]
    }
   ],
   "source": [
    "# Show the limits of each variable\n",
    "\n",
    "print(env.observation_space.high)\n",
    "print(env.observation_space.low)"
   ]
  },
  {
   "cell_type": "markdown",
   "metadata": {},
   "source": [
    "<table>\n",
    "<thead>\n",
    "<tr>\n",
    "<th>Num</th>\n",
    "<th>Observation</th>\n",
    "<th>Min</th>\n",
    "<th>Max</th>\n",
    "</tr>\n",
    "</thead>\n",
    "<tbody>\n",
    "<tr>\n",
    "<td>0</td>\n",
    "<td>Cart Position</td>\n",
    "<td>-4.8</td>\n",
    "<td>4.8</td>\n",
    "</tr>\n",
    "<tr>\n",
    "<td>1</td>\n",
    "<td>Cart Velocity</td>\n",
    "<td>-&infin;</td>\n",
    "<td>&infin;</td>\n",
    "</tr>\n",
    "<tr>\n",
    "<td>2</td>\n",
    "<td>Pole Angle rads</td>\n",
    "<td>-0.42</td>\n",
    "<td>0.42</td>\n",
    "</tr>\n",
    "<tr>\n",
    "<td>3</td>\n",
    "<td>Pole Velocity At Tip</td>\n",
    "<td>-&infin;</td>\n",
    "<td>&infin;</td>"
   ]
  },
  {
   "cell_type": "markdown",
   "metadata": {},
   "source": [
    "## Acting in the environment\n",
    "\n",
    "The *step* method of the environment returns information after execution of an action (passed as parameter) in the *current* state of the environment. In fact, *step* method returns four values:\n",
    "\n",
    "- **observation** (*object*): an environment-specific object representing your observation of the environment after the action has been executed. Examples of observations are: pixels from a game screen, joint angles and joint velocities of a robot, or the board state in a board game.\n",
    "    \n",
    "- **reward** (*float*): immediate reward obtained after action execution. The scale depends on the environment, but the goal is always to increase your total reward.\n",
    "    \n",
    "- **done** (*boolean*): If trial has ended or note (terminal state). When True, itâ€™s time to reset the environment again. Most (but not all) tasks are divided up into well-defined episodes, and *done* being True indicates the episode has terminated. (For example, perhaps the pole tipped too far, or you lost your last life in a game.)\n",
    "    \n",
    "- **info** (*dict*): diagnostic information useful for debugging. It can sometimes be useful for learning (for example, it might contain the raw probabilities behind the environmentâ€™s last state change). However, official evaluations of your agent are not allowed to use this info for learning.\n"
   ]
  },
  {
   "cell_type": "code",
   "execution_count": 5,
   "metadata": {},
   "outputs": [
    {
     "name": "stdout",
     "output_type": "stream",
     "text": [
      "s = [ 0.00524028 -0.01766289 -0.01724588  0.00155008]\n",
      "a = 0\n",
      "r = 1.0\n",
      "s'= [ 0.00488702 -0.21253332 -0.01721488  0.2887422 ]\n",
      "False\n"
     ]
    }
   ],
   "source": [
    "obs1 = env.reset()  # Starting state\n",
    "action = env.action_space.sample() # take a random action\n",
    "obs2, reward, done, info = env.step(action)  # take the action and observe results\n",
    "print('s =',obs1)  \n",
    "print('a =',action)\n",
    "print('r =',reward)\n",
    "print(\"s'=\",obs2)\n",
    "print(done)"
   ]
  },
  {
   "cell_type": "markdown",
   "metadata": {},
   "source": [
    "That's all the information we need in model-free RL algorithms!\n",
    "\n",
    "Let's execute now a sequence of random actions. Method *env.render* will show us a visualization of the environment."
   ]
  },
  {
   "cell_type": "code",
   "execution_count": 6,
   "metadata": {},
   "outputs": [],
   "source": [
    "# Generate one random trial\n",
    "obs1 = env.reset() \n",
    "done= False  \n",
    "while not done:\n",
    "    env.render()\n",
    "    observation, reward, done, info = env.step(env.action_space.sample()) # take a random action\n",
    "\n",
    "env.close()\n"
   ]
  },
  {
   "cell_type": "code",
   "execution_count": 52,
   "metadata": {},
   "outputs": [
    {
     "name": "stdout",
     "output_type": "stream",
     "text": [
      "Average reward 18.8\n",
      "Average time steps before ending episode 18.8\n"
     ]
    }
   ],
   "source": [
    "# Let's compute the average return for 10 random trials and the number of timesteps\n",
    "t=0\n",
    "tsteps=0\n",
    "treward=0\n",
    "for nexps in range(10):   # Let's do 10 trials\n",
    "    done= False  \n",
    "    env.reset() \n",
    "    while not done:\n",
    "        env.render()\n",
    "        observation, reward, done, info = env.step(env.action_space.sample()) # take a random action\n",
    "        treward = treward + reward\n",
    "        tsteps = tsteps + 1\n",
    "\n",
    "print('Average reward',treward/10)\n",
    "print('Average time steps before ending episode',tsteps/10)\n",
    "\n",
    "env.close()\n"
   ]
  },
  {
   "cell_type": "markdown",
   "metadata": {},
   "source": [
    "Trying to apply Q-learning, we have to define the table that will store the Q-value function. But we have a problem here, because our **states are defined by continuous variables**.\n",
    "\n",
    "One solution could be to discretize values by bining them.\n",
    "\n",
    "## Discretization of the state\n",
    "\n",
    "First we have to declare how many \"discrete\" states I will allow per variable, and later define the discretization procedure "
   ]
  },
  {
   "cell_type": "code",
   "execution_count": 36,
   "metadata": {},
   "outputs": [],
   "source": [
    "discr_vector = (1,3,10,20,)   # Resolution degrees: How many discrete states per variable. Play with this parameter!\n",
    "\n",
    "class Discretizer ():\n",
    "    \"\"\" mins: vector with minimim values allowed for each variable\n",
    "        maxs: vector with maximum values allowed for each variable\n",
    "    \"\"\"\n",
    "    def __init__(self, discr_vector, mins, maxs):\n",
    "        self.mins=mins\n",
    "        self.maxs=maxs\n",
    "        self.discr_vector = discr_vector\n",
    "        \n",
    "    def Discretize(self, obs):\n",
    "        # Move each variable to the range [0,1]\n",
    "        ratios = [(obs[i] + abs(self.mins[i])) / (self.maxs[i] - self.mins[i]) for i in range(len(obs))]\n",
    "        # Get the bin each value falls in\n",
    "        new_obs = [int(round((self.discr_vector[i] - 1) * ratios[i])) for i in range(len(obs))]\n",
    "        new_obs = [min(self.discr_vector[i] - 1, max(0, new_obs[i])) for i in range(len(obs))]\n",
    "        return tuple(new_obs)\n",
    "\n",
    "    def get_discretizer_size(self):\n",
    "        return self.discr_vector\n",
    "\n",
    "# Create the discretizer with maxs and mins from the enviroment\n",
    "d = Discretizer(discr_vector, env.observation_space.low, env.observation_space.high)\n",
    "\n",
    "# It will not work because limits for two varaibles are almost infinite (in other case could work)"
   ]
  },
  {
   "cell_type": "code",
   "execution_count": 47,
   "metadata": {},
   "outputs": [
    {
     "name": "stdout",
     "output_type": "stream",
     "text": [
      "[-0.00015708  0.03037379 -0.0089455   0.02327877]\n"
     ]
    },
    {
     "data": {
      "text/plain": [
       "(0, 1, 4, 10)"
      ]
     },
     "execution_count": 47,
     "metadata": {},
     "output_type": "execute_result"
    }
   ],
   "source": [
    "obs1 = env.reset() \n",
    "print(obs1)\n",
    "d.Discretize(obs1)"
   ]
  },
  {
   "cell_type": "code",
   "execution_count": 55,
   "metadata": {},
   "outputs": [],
   "source": [
    "# Another approach. Try a lot of random actions and find maximum and minimum for each variable empirically\n",
    "# This approach also has some problems, because some states are found with very low probability.\n",
    "\n",
    "treward = 0\n",
    "tsteps = 0\n",
    "\n",
    "lO=np.zeros((100000,4))\n",
    "for nexp in range(10000):   # Let's do 10 trials\n",
    "    done= False  \n",
    "    env.reset() \n",
    "    while not done:\n",
    "        observation, reward, done, info = env.step(env.action_space.sample()) # take a random action\n",
    "        treward = treward + reward\n",
    "        tsteps = tsteps + 1\n",
    "        lO[nexp]=np.array(observation)        \n",
    "        \n",
    "maxv=[np.max(lO[:,i]) for i in range(lO.shape[1])]\n",
    "minv=[np.min(lO[:,i]) for i in range(lO.shape[1])]\n",
    "\n",
    "# Now we have a better discretization based on common values\n",
    "d = Discretizer(discr_vector, minv, maxv)\n",
    "\n",
    "# or even better\n",
    "minv = [env.observation_space.low[0], minv[1], env.observation_space.low[2], minv[3]]\n",
    "maxv = [env.observation_space.high[0], maxv[1], env.observation_space.high[2], maxv[3]]\n",
    "d = Discretizer(discr_vector, minv, maxv)"
   ]
  },
  {
   "cell_type": "code",
   "execution_count": 49,
   "metadata": {},
   "outputs": [
    {
     "name": "stdout",
     "output_type": "stream",
     "text": [
      "[ 0.03668762  0.02457072  0.01846809 -0.01604546]\n"
     ]
    },
    {
     "data": {
      "text/plain": [
       "(0, 1, 5, 10)"
      ]
     },
     "execution_count": 49,
     "metadata": {},
     "output_type": "execute_result"
    }
   ],
   "source": [
    "obs1 = env.reset() \n",
    "print(obs1)\n",
    "d.Discretize(obs1)"
   ]
  },
  {
   "cell_type": "markdown",
   "metadata": {},
   "source": [
    "## Q-learning implementation\n",
    "\n",
    "#### Define epsilon-greedy procedure"
   ]
  },
  {
   "cell_type": "code",
   "execution_count": 50,
   "metadata": {},
   "outputs": [],
   "source": [
    "def choose_action(state, epsilon):\n",
    "    return env.action_space.sample() if (np.random.random() <= epsilon) else np.argmax(Q[state])"
   ]
  },
  {
   "cell_type": "markdown",
   "metadata": {},
   "source": [
    "#### Implementation of Q-learning"
   ]
  },
  {
   "cell_type": "code",
   "execution_count": 57,
   "metadata": {},
   "outputs": [
    {
     "name": "stdout",
     "output_type": "stream",
     "text": [
      "Episode 100 Total Reward: 9.0 Average Reward: 13.28\n",
      "Episode 200 Total Reward: 10.0 Average Reward: 12.77\n",
      "Episode 300 Total Reward: 41.0 Average Reward: 19.96\n",
      "Episode 400 Total Reward: 230.0 Average Reward: 126.75\n",
      "Ran 472 episodes. Solved after 372 trials âœ”\n"
     ]
    }
   ],
   "source": [
    "# Set parameters for learning\n",
    "alpha = 0.2\n",
    "epsilon = 0.1\n",
    "gamma = 1\n",
    "\n",
    "# Create and initialize Q-value table to 0\n",
    "Q = np.zeros(discr_vector + (env.action_space.n,))\n",
    "\n",
    "# Just to store the long-term-reward of the last 100 experiments \n",
    "scores = deque(maxlen=100)\n",
    "lrews = []\n",
    "lr = []\n",
    "\n",
    "for episode in range(1,10001):\n",
    "    done = False\n",
    "    R, reward = 0,0\n",
    "    state = d.Discretize(env.reset())\n",
    "    while done != True:\n",
    "            action = choose_action(state, epsilon) \n",
    "            obs, reward, done, info = env.step(action) \n",
    "            new_state = d.Discretize(obs)\n",
    "            Q[state][action] += alpha * (reward + gamma * np.max(Q[new_state]) - Q[state][action]) #3\n",
    "            R = gamma * R + reward\n",
    "            state = new_state   \n",
    "    lr.append(R)\n",
    "    scores.append(R)\n",
    "    mean_score = np.mean(scores)\n",
    "    lrews.append(np.mean(scores))\n",
    "    if mean_score >= 250 and episode >= 100:\n",
    "        print('Ran {} episodes. Solved after {} trials âœ”'.format(episode, episode - 100))    \n",
    "        break\n",
    "    if episode % 100 == 0:\n",
    "        print('Episode {} Total Reward: {} Average Reward: {}'.format(episode,R,np.mean(scores)))\n"
   ]
  },
  {
   "cell_type": "markdown",
   "metadata": {},
   "source": [
    "This is how long term reward increses with episodes. Remember that long-term-reward represents the number of time steps before failure. We decided the task was learnt when the average long-term-reward of the last 100 experiences is higher than 200. "
   ]
  },
  {
   "cell_type": "code",
   "execution_count": 58,
   "metadata": {},
   "outputs": [
    {
     "data": {
      "image/png": "[encoded data removed]",
      "text/plain": [
       "<Figure size 432x288 with 1 Axes>"
      ]
     },
     "metadata": {
      "needs_background": "light"
     },
     "output_type": "display_data"
    }
   ],
   "source": [
    "plt.plot(lrews)\n",
    "plt.show()"
   ]
  },
  {
   "cell_type": "markdown",
   "metadata": {},
   "source": [
    "Notice that, being results shown are average of last 100 experiments, there is a \"delay\" of 100 episodes in detecting that desired behavior has been learnt. We could plot the actual reward for each episode, but is too varaible to see anything. It is better to average returns."
   ]
  },
  {
   "cell_type": "code",
   "execution_count": 59,
   "metadata": {},
   "outputs": [
    {
     "data": {
      "image/png": "[encoded data removed]",
      "text/plain": [
       "<Figure size 432x288 with 1 Axes>"
      ]
     },
     "metadata": {
      "needs_background": "light"
     },
     "output_type": "display_data"
    }
   ],
   "source": [
    "plt.plot(lr)\n",
    "plt.show()"
   ]
  },
  {
   "cell_type": "markdown",
   "metadata": {},
   "source": [
    "Why so many peaks? Remeber! We take random actions with probability $\\epsilon$. Notice difference in performance when we set epsilon to zero. That's because we use an off-policy method."
   ]
  },
  {
   "cell_type": "code",
   "execution_count": 60,
   "metadata": {},
   "outputs": [
    {
     "name": "stdout",
     "output_type": "stream",
     "text": [
      "Average reward for epsilon 0.1 : 463.05\n",
      "Average reward for epsilon 0: 500.0\n"
     ]
    }
   ],
   "source": [
    "def rollout(epsilon, render=True):\n",
    "    done = False\n",
    "    R, reward = 0,0\n",
    "    state = d.Discretize(env.reset())\n",
    "    while done != True:\n",
    "            if render: \n",
    "                env.render()\n",
    "            action = choose_action(state, epsilon) \n",
    "            obs, reward, done, info = env.step(action) \n",
    "            R = gamma * R + reward\n",
    "            state = d.Discretize(obs)\n",
    "    return R\n",
    "\n",
    "rollout(epsilon)\n",
    "rollout(0)\n",
    "\n",
    "print('Average reward for epsilon', epsilon, ':', np.mean([rollout(epsilon, render=False) for _ in range(20)]))\n",
    "print('Average reward for epsilon 0:', np.mean([rollout(0,render=False) for _ in range(20)]))\n",
    "\n",
    "env.close()"
   ]
  },
  {
   "cell_type": "markdown",
   "metadata": {},
   "source": [
    "But instead of stopping after return in last 100 experiments is higher than 200, let's iterate a fixed number of experiences"
   ]
  },
  {
   "cell_type": "code",
   "execution_count": 61,
   "metadata": {},
   "outputs": [
    {
     "data": {
      "image/png": "[encoded data removed]",
      "text/plain": [
       "<Figure size 432x288 with 1 Axes>"
      ]
     },
     "metadata": {
      "needs_background": "light"
     },
     "output_type": "display_data"
    }
   ],
   "source": [
    "# Set parameters for learning\n",
    "alpha = 0.2\n",
    "epsilon = 0.1\n",
    "gamma = 1\n",
    "\n",
    "# Create and initialize Q-value table to 0\n",
    "Q = np.zeros(discr_vector + (env.action_space.n,))\n",
    "\n",
    "# Just to store the long-term-reward of the last 100 experiments \n",
    "scores = deque(maxlen=100)\n",
    "lrews = []\n",
    "\n",
    "for episode in range(1,3001):\n",
    "    done = False\n",
    "    R, reward = 0,0\n",
    "    state = d.Discretize(env.reset())\n",
    "    while done != True:\n",
    "            action = choose_action(state, epsilon) \n",
    "            obs, reward, done, info = env.step(action) \n",
    "            new_state = d.Discretize(obs)\n",
    "            Q[state][action] += alpha * (reward + gamma * np.max(Q[new_state]) - Q[state][action]) #3\n",
    "            R = gamma * R + reward\n",
    "            state = new_state   \n",
    "    scores.append(R)\n",
    "    mean_score = np.mean(scores)\n",
    "    lrews.append(np.mean(scores))\n",
    "\n",
    "plt.plot(lrews)\n",
    "plt.show()\n"
   ]
  },
  {
   "cell_type": "markdown",
   "metadata": {},
   "source": [
    "Inestability can be produced because we had not good enough discretization and/or large alpha values and/or large epsilon values. \n"
   ]
  },
  {
   "cell_type": "markdown",
   "metadata": {},
   "source": [
    "Not bad. However, in RL results depend a lot on randomization, so it's a good thing repeat several times the same procedure"
   ]
  },
  {
   "cell_type": "code",
   "execution_count": 62,
   "metadata": {},
   "outputs": [
    {
     "name": "stdout",
     "output_type": "stream",
     "text": [
      "*** New experiment!\n",
      "*** New experiment!\n",
      "*** New experiment!\n",
      "*** New experiment!\n",
      "*** New experiment!\n",
      "*** New experiment!\n",
      "*** New experiment!\n",
      "*** New experiment!\n",
      "*** New experiment!\n",
      "*** New experiment!\n"
     ]
    }
   ],
   "source": [
    "l100rew=[]\n",
    "for _ in range(10):\n",
    "    print('*** New experiment!')\n",
    "    # Create and initialize Q-value table to 0\n",
    "    Q = np.zeros(discr_vector + (env.action_space.n,))\n",
    "\n",
    "    # Just to store the long-term-reward of the last 100 experiments \n",
    "    scores = deque(maxlen=100)\n",
    "    lrews = []\n",
    "\n",
    "    for episode in range(1,3001):\n",
    "        done = False\n",
    "        R, reward = 0,0\n",
    "        state = d.Discretize(env.reset())\n",
    "        while done != True:\n",
    "                action = choose_action(state, epsilon) \n",
    "                obs, reward, done, info = env.step(action) \n",
    "                new_state = d.Discretize(obs)\n",
    "                Q[state][action] += alpha * (reward + gamma * np.max(Q[new_state]) - Q[state][action]) #3\n",
    "                R = gamma * R + reward\n",
    "                state = new_state   \n",
    "        scores.append(R)\n",
    "        mean_score = np.mean(scores)\n",
    "        lrews.append(np.mean(scores))\n",
    "        #if mean_score >= 195 and episode >= 100:\n",
    "        #    print('Ran {} episodes. Solved after {} trials âœ”'.format(episode, episode - 100))    \n",
    "        #    break\n",
    "        #if episode % 100 == 0:\n",
    "        #    print('Episode {} Total Reward: {} Average Reward: {}'.format(episode,G,np.mean(scores)))\n",
    "    l100rew.append(lrews)"
   ]
  },
  {
   "cell_type": "code",
   "execution_count": 63,
   "metadata": {},
   "outputs": [
    {
     "data": {
      "image/png": "[encoded data removed]",
      "text/plain": [
       "<Figure size 432x288 with 1 Axes>"
      ]
     },
     "metadata": {
      "needs_background": "light"
     },
     "output_type": "display_data"
    }
   ],
   "source": [
    "l100rew = np.array(l100rew)\n",
    "means = np.mean(l100rew, axis=0)\n",
    "stds = np.std(l100rew, axis=0)\n",
    "plt.plot(means, label='mean')\n",
    "plt.fill_between(range(means.shape[0]), means-stds, means+stds, alpha=0.3, label='mean+-std')\n",
    "plt.legend()\n",
    "plt.show()"
   ]
  },
  {
   "cell_type": "markdown",
   "metadata": {},
   "source": [
    "Not very smooth and somewhat slow in learning. We could do better setting a variable alpha and epsilon (why?)\n",
    "\n",
    "$$ \\epsilon = \\max \\left( \\epsilon_{min}, 1- \\log \\frac{t+1}{tau} \\right) $$\n",
    "$$ \\alpha = \\max \\left( \\alpha_{min}, 1- \\log \\frac{t+1}{tau} \\right) $$"
   ]
  },
  {
   "cell_type": "code",
   "execution_count": 84,
   "metadata": {},
   "outputs": [
    {
     "data": {
      "image/png": "[encoded data removed]",
      "text/plain": [
       "<Figure size 432x288 with 1 Axes>"
      ]
     },
     "metadata": {
      "needs_background": "light"
     },
     "output_type": "display_data"
    }
   ],
   "source": [
    "min_alpha=0.05\n",
    "min_epsilon = 0.01\n",
    "tau = 50\n",
    "\n",
    "def set_epsilon(t, tau):\n",
    "    return max(min_epsilon, min(1, 1.0 - math.log10((t + 1) / tau)))\n",
    "\n",
    "def set_alpha(t, tau):\n",
    "    return max(min_alpha, min(1.0, 1.0 - math.log10((t + 1) / tau)))\n",
    "\n",
    "plt.plot([set_alpha(i, tau) for i in range(3001)])\n",
    "plt.show()"
   ]
  },
  {
   "cell_type": "code",
   "execution_count": 67,
   "metadata": {},
   "outputs": [
    {
     "name": "stdout",
     "output_type": "stream",
     "text": [
      "*** New experiment!\n",
      "*** New experiment!\n",
      "*** New experiment!\n",
      "*** New experiment!\n",
      "*** New experiment!\n",
      "*** New experiment!\n",
      "*** New experiment!\n",
      "*** New experiment!\n",
      "*** New experiment!\n",
      "*** New experiment!\n"
     ]
    },
    {
     "data": {
      "image/png": "[encoded data removed]",
      "text/plain": [
       "<Figure size 432x288 with 1 Axes>"
      ]
     },
     "metadata": {
      "needs_background": "light"
     },
     "output_type": "display_data"
    }
   ],
   "source": [
    "l100rew=[]\n",
    "for _ in range(10):\n",
    "    print('*** New experiment!')\n",
    "    # Create and initialize Q-value table to 0\n",
    "    Q = np.zeros(discr_vector + (env.action_space.n,))\n",
    "\n",
    "    # Just to store the long-term-reward of the last 100 experiments \n",
    "    scores = deque(maxlen=100)\n",
    "    lrews = []\n",
    "\n",
    "    for episode in range(1, 1001):\n",
    "        done = False\n",
    "        e = set_epsilon(episode, tau)\n",
    "        a = set_alpha(episode, tau)\n",
    "        R, reward = 0,0\n",
    "        state = d.Discretize(env.reset())\n",
    "        while done != True:\n",
    "                action = choose_action(state, e) \n",
    "                obs, reward, done, info = env.step(action) \n",
    "                new_state = d.Discretize(obs)\n",
    "                Q[state][action] += a * (reward + gamma * np.max(Q[new_state]) - Q[state][action]) #3\n",
    "                R = gamma * R + reward\n",
    "                state = new_state   \n",
    "        scores.append(R)\n",
    "        mean_score = np.mean(scores)\n",
    "        lrews.append(np.mean(scores))\n",
    "    l100rew.append(lrews)\n",
    "\n",
    "#sns.tsplot(data=l100rew) #, err_style=\"unit_traces\")\n",
    "#plt.show()\n",
    "\n",
    "l100rew = np.array(l100rew)\n",
    "means = np.mean(l100rew, axis=0)\n",
    "stds = np.std(l100rew, axis=0)\n",
    "plt.plot(means, label='mean')\n",
    "plt.fill_between(range(means.shape[0]), means-stds, means+stds, alpha=0.3, label='mean+-std')\n",
    "plt.legend()\n",
    "plt.show()"
   ]
  },
  {
   "cell_type": "code",
   "execution_count": 66,
   "metadata": {},
   "outputs": [
    {
     "name": "stdout",
     "output_type": "stream",
     "text": [
      "Average reward for epsilon 0: 500.0\n"
     ]
    }
   ],
   "source": [
    "print('Average reward for epsilon 0:', np.mean([rollout(0,render=True) for _ in range(20)]))\n",
    "env.close()"
   ]
  },
  {
   "cell_type": "markdown",
   "metadata": {},
   "source": [
    "## Exercises\n",
    "\n",
    "1. Play with parameters for discretization and see how they affect performance and convergence\n",
    "2. Try other methods to decrese $\\alpha$ and $\\epsilon$\n",
    "3. Try Boltzman exploration instead of $\\epsilon$ greedy\n",
    "4. Obtain Q-values for starting state. Is that strange? Can you explain/solve the problem using gamma different to 1? Try with gamma 0.99 for example.\n",
    "5. **Implement Monte-Carlo for this problem and compare performance and variance with Q-learning**\n",
    "6. **Implement n-steps Q-learning for this problem and compare performance with Q-learning**\n",
    "7. **Implement Sarsa on this problem**\n",
    "8. **Adapt everything has been done here to another Gym problem, f.i. Acrobot-v1 or MountainCar-v0**"
   ]
  },
  {
   "cell_type": "markdown",
   "metadata": {},
   "source": [
    "### Common Functions"
   ]
  },
  {
   "cell_type": "code",
   "execution_count": 106,
   "metadata": {},
   "outputs": [],
   "source": [
    "def choose_action(q_values, epsilon):\n",
    "    return env.action_space.sample() if (np.random.random() <= epsilon) else np.argmax(q_values)"
   ]
  },
  {
   "cell_type": "code",
   "execution_count": 140,
   "metadata": {},
   "outputs": [],
   "source": [
    "def get_epsilon(t, tau=200, min_epsilon=0.01):\n",
    "    return max(min_epsilon, min(1, 1.0 - math.log10((t + 1) / tau)))\n",
    "\n",
    "def get_alpha(t, tau=200, min_alpha=0.05):\n",
    "    return max(min_alpha, min(1.0, 1.0 - math.log10((t + 1) / tau)))"
   ]
  },
  {
   "cell_type": "code",
   "execution_count": 143,
   "metadata": {},
   "outputs": [],
   "source": [
    "def perform_experiments(env, env_name, discretizer, method_name, experiments, gamma, episode_function, **params):\n",
    "    num_actions = env.action_space.n\n",
    "\n",
    "    experiment_avg_last_100 = []\n",
    "\n",
    "    print(f'{method_name} experiments:')\n",
    "\n",
    "    for experiment in range(experiments):\n",
    "\n",
    "        print(f'  Experiment {experiment}')\n",
    "\n",
    "        Q_table = np.zeros(discretizer.get_discretizer_size() + (num_actions, ))\n",
    "\n",
    "        last_100_returns = deque(maxlen=100)\n",
    "        avg_last_100 = []\n",
    "\n",
    "        for episode in range(1, 3001):\n",
    "            episode_return = episode_function(env, episode, Q_table, discretizer, gamma, **params)\n",
    "\n",
    "            last_100_returns.append(episode_return)\n",
    "            avg_last_100.append(np.mean(last_100_returns))\n",
    "\n",
    "        experiment_avg_last_100.append(avg_last_100)\n",
    "\n",
    "\n",
    "    means = np.mean(experiment_avg_last_100, axis=0)\n",
    "    stds = np.std(experiment_avg_last_100, axis=0)\n",
    "    \n",
    "    plt.figure(figsize=(8, 8))\n",
    "    plt.plot(means, label='mean')\n",
    "    plt.fill_between(range(means.shape[0]), means-stds, means+stds, alpha=0.3, label='mean+-std')\n",
    "    plt.title(f'Last 100 episodes average return on {env_name} using {method_name}')\n",
    "    plt.legend()\n",
    "    plt.tight_layout()\n",
    "    plt.show()\n",
    "\n",
    "    return Q_table"
   ]
  },
  {
   "cell_type": "code",
   "execution_count": 109,
   "metadata": {},
   "outputs": [],
   "source": [
    "def compute_episode_returns(rewards, gamma):\n",
    "    returns = np.zeros((len(rewards)))\n",
    "    last_value = 0\n",
    "\n",
    "    for i, reward in reversed(list(enumerate(rewards))):\n",
    "        returns[i] = reward + gamma*last_value\n",
    "        last_value = returns[i]\n",
    "\n",
    "    return returns"
   ]
  },
  {
   "cell_type": "code",
   "execution_count": 110,
   "metadata": {},
   "outputs": [],
   "source": [
    "def test_environment(env, discretizer, Q_table, gamma, episodes):\n",
    "\n",
    "    returns = []\n",
    "\n",
    "    for _ in range(episodes): \n",
    "        done = False\n",
    "        state = discretizer.Discretize(env.reset())\n",
    "\n",
    "        rewards = []\n",
    "        \n",
    "        while done != True:\n",
    "            env.render()\n",
    "            action = choose_action(Q_table[state], epsilon=0) \n",
    "            obs, reward, done, _ = env.step(action)\n",
    "\n",
    "            rewards.append(reward)\n",
    "\n",
    "            state = discretizer.Discretize(obs)\n",
    "        \n",
    "        episode_returns = compute_episode_returns(rewards, gamma)\n",
    "        returns.append(episode_returns[0])\n",
    "\n",
    "    env.close()\n",
    "\n",
    "    return np.mean(returns)"
   ]
  },
  {
   "cell_type": "code",
   "execution_count": 111,
   "metadata": {},
   "outputs": [],
   "source": [
    "env_name = 'CartPole'\n",
    "experiments = 10\n",
    "gamma = 1\n",
    "extra_params = {}"
   ]
  },
  {
   "cell_type": "markdown",
   "metadata": {},
   "source": [
    "### Boltzman Exploration"
   ]
  },
  {
   "cell_type": "code",
   "execution_count": 85,
   "metadata": {},
   "outputs": [],
   "source": [
    "def get_temperature(t, tau=50, min_temperature=0.01):\n",
    "    return max(min_temperature, min(1, 1.0 - math.log10((t + 1) / tau)))"
   ]
  },
  {
   "cell_type": "code",
   "execution_count": 98,
   "metadata": {},
   "outputs": [],
   "source": [
    "def softmax(q_values, temperature=1.0):\n",
    "    q_values_norm = q_values/temperature\n",
    "    max_q_value = np.max(q_values_norm)\n",
    "    stable_q_values = q_values_norm - max_q_value\n",
    "\n",
    "    exp_q_values = np.exp(stable_q_values)\n",
    "    sum_exp = np.sum(exp_q_values)\n",
    "\n",
    "    probs = exp_q_values/sum_exp\n",
    "    return probs"
   ]
  },
  {
   "cell_type": "code",
   "execution_count": 101,
   "metadata": {},
   "outputs": [],
   "source": [
    "def boltzman_episode(env, episode_num, Q_table, discretizer, gamma):\n",
    "    temperature = get_temperature(episode_num)\n",
    "    alpha = get_alpha(episode_num)\n",
    "\n",
    "    state = discretizer.Discretize(env.reset())\n",
    "    done = False\n",
    "    num_actions = env.action_space.n\n",
    "\n",
    "    rewards = []\n",
    "\n",
    "    while not done:\n",
    "        probs = softmax(Q_table[state], temperature)\n",
    "        action = np.random.choice(num_actions, p=probs)\n",
    "        \n",
    "        obs, reward, done, _ = env.step(action)\n",
    "        \n",
    "        next_state = discretizer.Discretize(obs)\n",
    "\n",
    "        Q_table[state][action] += alpha*(reward + gamma*np.max(Q_table[next_state]) - Q_table[state][action])\n",
    "        \n",
    "        rewards.append(reward)\n",
    "\n",
    "        state = next_state   \n",
    "        \n",
    "    returns = compute_episode_returns(rewards, gamma)\n",
    "    return returns[0]"
   ]
  },
  {
   "cell_type": "code",
   "execution_count": 102,
   "metadata": {},
   "outputs": [
    {
     "name": "stdout",
     "output_type": "stream",
     "text": [
      "Boltzman Q-learning experiments:\n",
      "  Experiment 0\n",
      "  Experiment 1\n",
      "  Experiment 2\n",
      "  Experiment 3\n",
      "  Experiment 4\n",
      "  Experiment 5\n",
      "  Experiment 6\n",
      "  Experiment 7\n",
      "  Experiment 8\n",
      "  Experiment 9\n"
     ]
    },
    {
     "data": {
      "image/png": "[encoded data removed]",
      "text/plain": [
       "<Figure size 432x360 with 1 Axes>"
      ]
     },
     "metadata": {
      "needs_background": "light"
     },
     "output_type": "display_data"
    }
   ],
   "source": [
    "Q_table_boltzman = perform_experiments(env, env_name, d, 'Boltzman Q-learning', experiments, gamma, boltzman_episode, **extra_params)"
   ]
  },
  {
   "cell_type": "markdown",
   "metadata": {},
   "source": [
    "### Monte-Carlo Implementation"
   ]
  },
  {
   "cell_type": "code",
   "execution_count": 119,
   "metadata": {},
   "outputs": [],
   "source": [
    "def perform_episode(env, episode_num, Q_table, discretizer):\n",
    "    epsilon = get_epsilon(episode_num)\n",
    "\n",
    "    state = discretizer.Discretize(env.reset())\n",
    "    done = False\n",
    "\n",
    "    states = []\n",
    "    actions = []\n",
    "    rewards = []\n",
    "\n",
    "    while not done:\n",
    "        states.append(state)\n",
    "        \n",
    "        action = choose_action(Q_table[state], epsilon)\n",
    "        obs, reward, done, _ = env.step(action)\n",
    "        state = discretizer.Discretize(obs)\n",
    "\n",
    "        actions.append(action)\n",
    "        rewards.append(reward)\n",
    "    \n",
    "    return states, actions, rewards"
   ]
  },
  {
   "cell_type": "code",
   "execution_count": 120,
   "metadata": {},
   "outputs": [],
   "source": [
    "def update_q_values(env, episode_num, Q_table, discretizer, gamma):\n",
    "    states, actions, rewards = perform_episode(env, episode_num, Q_table, discretizer)\n",
    "    returns = compute_episode_returns(rewards, gamma)\n",
    "\n",
    "    alpha = get_alpha(episode_num)\n",
    "\n",
    "    visited = []\n",
    "\n",
    "    for i in range(len(states)):\n",
    "        state = states[i]\n",
    "        action = actions[i]\n",
    "        state_return = returns[i]\n",
    "\n",
    "        if state not in visited:\n",
    "            visited.append(state)\n",
    "            Q_table[state][action] += alpha*(state_return - Q_table[state][action])\n",
    "\n",
    "    return returns[0]"
   ]
  },
  {
   "cell_type": "code",
   "execution_count": 28,
   "metadata": {},
   "outputs": [
    {
     "name": "stdout",
     "output_type": "stream",
     "text": [
      "Monte-Carlo experiments:\n",
      "  Experiment 0\n",
      "  Experiment 1\n",
      "  Experiment 2\n",
      "  Experiment 3\n",
      "  Experiment 4\n",
      "  Experiment 5\n",
      "  Experiment 6\n",
      "  Experiment 7\n",
      "  Experiment 8\n",
      "  Experiment 9\n"
     ]
    },
    {
     "data": {
      "image/png": "[encoded data removed]",
      "text/plain": [
       "<Figure size 432x360 with 1 Axes>"
      ]
     },
     "metadata": {
      "needs_background": "light"
     },
     "output_type": "display_data"
    }
   ],
   "source": [
    "Q_table_mc = perform_experiments(env, env_name, d, 'Monte-Carlo', experiments, gamma, update_q_values, **extra_params)"
   ]
  },
  {
   "cell_type": "markdown",
   "metadata": {},
   "source": [
    "### n-steps Q-learning"
   ]
  },
  {
   "cell_type": "code",
   "execution_count": 29,
   "metadata": {},
   "outputs": [],
   "source": [
    "def compute_n_step_return(rewards, gamma, index_update, n, episode_length):\n",
    "    return_ = 0\n",
    "    end = min(index_update + n, episode_length)\n",
    "    \n",
    "    for i in range(index_update, end):\n",
    "        return_ += (gamma**(i - index_update))*rewards[i]\n",
    "    \n",
    "    return return_"
   ]
  },
  {
   "cell_type": "code",
   "execution_count": 30,
   "metadata": {},
   "outputs": [],
   "source": [
    "def n_step_q_learning_episode(episode_num, Q_table, discretizer, gamma, n, episode_length):\n",
    "    epsilon = get_epsilon(episode_num)\n",
    "    alpha = get_alpha(episode_num)\n",
    "\n",
    "    state = discretizer.Discretize(env.reset())\n",
    "    done = False\n",
    "\n",
    "    rewards = []\n",
    "\n",
    "    states_n_steps = deque(maxlen=n)\n",
    "    actions_n_steps = deque(maxlen=n)\n",
    "\n",
    "    step = 0\n",
    "\n",
    "    while not done:\n",
    "        action = choose_action(Q_table[state], epsilon)\n",
    "        obs, reward, done, _ = env.step(action)\n",
    "        next_state = discretizer.Discretize(obs)\n",
    "        \n",
    "        states_n_steps.append(state)\n",
    "        actions_n_steps.append(action)\n",
    "        rewards.append(reward)\n",
    "\n",
    "        index_update = step - n + 1\n",
    "\n",
    "        if index_update >= 0:\n",
    "\n",
    "            target = compute_n_step_return(rewards, gamma, index_update, n, episode_length)\n",
    "\n",
    "            update_state = states_n_steps[0]\n",
    "            update_action = actions_n_steps[0]\n",
    "\n",
    "            if index_update + n < episode_length:\n",
    "                target += np.max(Q_table[next_state]) * (gamma**n)\n",
    "\n",
    "            Q_table[update_state][update_action] += alpha*(target - Q_table[update_state][update_action])\n",
    "\n",
    "        step += 1\n",
    "\n",
    "        state = next_state\n",
    "\n",
    "    returns = compute_episode_returns(rewards, gamma)\n",
    "    return returns[0]"
   ]
  },
  {
   "cell_type": "code",
   "execution_count": 31,
   "metadata": {},
   "outputs": [
    {
     "name": "stdout",
     "output_type": "stream",
     "text": [
      "n-step Q-learning experiments:\n",
      "  Experiment 0\n",
      "  Experiment 1\n",
      "  Experiment 2\n",
      "  Experiment 3\n",
      "  Experiment 4\n",
      "  Experiment 5\n",
      "  Experiment 6\n",
      "  Experiment 7\n",
      "  Experiment 8\n",
      "  Experiment 9\n"
     ]
    },
    {
     "data": {
      "image/png": "[encoded data removed]",
      "text/plain": [
       "<Figure size 432x360 with 1 Axes>"
      ]
     },
     "metadata": {
      "needs_background": "light"
     },
     "output_type": "display_data"
    }
   ],
   "source": [
    "n = 1\n",
    "episode_length = env.__dict__['_max_episode_steps']\n",
    "extra_params = {'n' : n, 'episode_length' : episode_length}\n",
    "\n",
    "Q_table_nsteps = perform_experiments(env, env_name, d, 'n-step Q-learning', experiments, gamma, n_step_q_learning_episode, **extra_params)"
   ]
  },
  {
   "cell_type": "markdown",
   "metadata": {},
   "source": [
    "### Sarsa"
   ]
  },
  {
   "cell_type": "code",
   "execution_count": 112,
   "metadata": {},
   "outputs": [],
   "source": [
    "def sarsa_episode(env, episode_num, Q_table, discretizer, gamma):\n",
    "    epsilon = get_epsilon(episode_num)\n",
    "    alpha = get_alpha(episode_num)\n",
    "\n",
    "    state = discretizer.Discretize(env.reset())\n",
    "    done = False\n",
    "\n",
    "    rewards = []\n",
    "\n",
    "    while not done:\n",
    "        action = choose_action(Q_table[state], epsilon)\n",
    "        obs, reward, done, _ = env.step(action)\n",
    "        \n",
    "        next_state = discretizer.Discretize(obs)\n",
    "        next_action = choose_action(Q_table[next_state], epsilon)\n",
    "\n",
    "        Q_table[state][action] += alpha*(reward + gamma*Q_table[next_state][next_action] - Q_table[state][action])\n",
    "        \n",
    "        rewards.append(reward)\n",
    "\n",
    "        state = next_state   \n",
    "        \n",
    "    returns = compute_episode_returns(rewards, gamma)\n",
    "    return returns[0]"
   ]
  },
  {
   "cell_type": "code",
   "execution_count": 46,
   "metadata": {},
   "outputs": [
    {
     "name": "stdout",
     "output_type": "stream",
     "text": [
      "Sarsa experiments:\n",
      "  Experiment 0\n",
      "  Experiment 1\n",
      "  Experiment 2\n",
      "  Experiment 3\n",
      "  Experiment 4\n",
      "  Experiment 5\n",
      "  Experiment 6\n",
      "  Experiment 7\n",
      "  Experiment 8\n",
      "  Experiment 9\n"
     ]
    },
    {
     "data": {
      "image/png": "[encoded data removed]",
      "text/plain": [
       "<Figure size 432x360 with 1 Axes>"
      ]
     },
     "metadata": {
      "needs_background": "light"
     },
     "output_type": "display_data"
    }
   ],
   "source": [
    "episode_function_params = {}\n",
    "\n",
    "Q_table_sarsa = perform_experiments(env, 'CartPole', d, 'Sarsa', experiments, gamma, sarsa_episode, **episode_function_params)"
   ]
  },
  {
   "cell_type": "markdown",
   "metadata": {},
   "source": [
    "### MountainCar-v0 environment"
   ]
  },
  {
   "cell_type": "code",
   "execution_count": 144,
   "metadata": {},
   "outputs": [
    {
     "name": "stdout",
     "output_type": "stream",
     "text": [
      "Box([-1.2  -0.07], [0.6  0.07], (2,), float32)\n",
      "[-1.2  -0.07]\n",
      "[0.6  0.07]\n",
      "Discrete(3)\n"
     ]
    }
   ],
   "source": [
    "env2 = gym.make('MountainCar-v0')\n",
    "print(env2.observation_space)\n",
    "print(env2.observation_space.low)\n",
    "print(env2.observation_space.high)\n",
    "print(env2.action_space)\n",
    "\n",
    "d2 = Discretizer((20, 20), env2.observation_space.low, env2.observation_space.high)"
   ]
  },
  {
   "cell_type": "code",
   "execution_count": 145,
   "metadata": {},
   "outputs": [
    {
     "name": "stdout",
     "output_type": "stream",
     "text": [
      "Sarsa experiments:\n",
      "  Experiment 0\n",
      "  Experiment 1\n",
      "  Experiment 2\n",
      "  Experiment 3\n",
      "  Experiment 4\n",
      "  Experiment 5\n",
      "  Experiment 6\n",
      "  Experiment 7\n",
      "  Experiment 8\n",
      "  Experiment 9\n"
     ]
    },
    {
     "data": {
      "image/png": "[encoded data removed]",
      "text/plain": [
       "<Figure size 576x576 with 1 Axes>"
      ]
     },
     "metadata": {
      "needs_background": "light"
     },
     "output_type": "display_data"
    }
   ],
   "source": [
    "experiments = 10\n",
    "gamma = 1\n",
    "episode_function_params = {}\n",
    "\n",
    "Q_table_sarsa_2 = perform_experiments(env2, 'MountainCar', d2, 'Sarsa', experiments, gamma, sarsa_episode, **episode_function_params)"
   ]
  },
  {
   "cell_type": "code",
   "execution_count": 46,
   "metadata": {},
   "outputs": [
    {
     "ename": "KeyboardInterrupt",
     "evalue": "",
     "output_type": "error",
     "traceback": [
      "\u001b[1;31m---------------------------------------------------------------------------\u001b[0m",
      "\u001b[1;31mKeyboardInterrupt\u001b[0m                         Traceback (most recent call last)",
      "\u001b[1;32md:\\MAI\\ATCI\\Lab\\Lab 2\\q_learning.ipynb Cell 67'\u001b[0m in \u001b[0;36m<module>\u001b[1;34m\u001b[0m\n\u001b[1;32m----> <a href='vscode-notebook-cell:/d%3A/MAI/ATCI/Lab/Lab%202/q_learning.ipynb#ch0000066?line=0'>1</a>\u001b[0m avg_return \u001b[39m=\u001b[39m test_environment(env2, d2, Q_table_sarsa_2, gamma, episodes\u001b[39m=\u001b[39;49m\u001b[39m20\u001b[39;49m)\n\u001b[0;32m      <a href='vscode-notebook-cell:/d%3A/MAI/ATCI/Lab/Lab%202/q_learning.ipynb#ch0000066?line=1'>2</a>\u001b[0m \u001b[39mprint\u001b[39m(avg_return)\n",
      "\u001b[1;32md:\\MAI\\ATCI\\Lab\\Lab 2\\q_learning.ipynb Cell 46'\u001b[0m in \u001b[0;36mtest_environment\u001b[1;34m(env, discretizer, Q_table, gamma, episodes)\u001b[0m\n\u001b[0;32m      <a href='vscode-notebook-cell:/d%3A/MAI/ATCI/Lab/Lab%202/q_learning.ipynb#ch0000044?line=8'>9</a>\u001b[0m rewards \u001b[39m=\u001b[39m []\n\u001b[0;32m     <a href='vscode-notebook-cell:/d%3A/MAI/ATCI/Lab/Lab%202/q_learning.ipynb#ch0000044?line=10'>11</a>\u001b[0m \u001b[39mwhile\u001b[39;00m done \u001b[39m!=\u001b[39m \u001b[39mTrue\u001b[39;00m:\n\u001b[1;32m---> <a href='vscode-notebook-cell:/d%3A/MAI/ATCI/Lab/Lab%202/q_learning.ipynb#ch0000044?line=11'>12</a>\u001b[0m     env\u001b[39m.\u001b[39;49mrender()\n\u001b[0;32m     <a href='vscode-notebook-cell:/d%3A/MAI/ATCI/Lab/Lab%202/q_learning.ipynb#ch0000044?line=12'>13</a>\u001b[0m     action \u001b[39m=\u001b[39m choose_action(Q_table[state], epsilon\u001b[39m=\u001b[39m\u001b[39m0\u001b[39m) \n\u001b[0;32m     <a href='vscode-notebook-cell:/d%3A/MAI/ATCI/Lab/Lab%202/q_learning.ipynb#ch0000044?line=13'>14</a>\u001b[0m     obs, reward, done, _ \u001b[39m=\u001b[39m env\u001b[39m.\u001b[39mstep(action)\n",
      "File \u001b[1;32m~\\anaconda3\\lib\\site-packages\\gym\\core.py:295\u001b[0m, in \u001b[0;36mWrapper.render\u001b[1;34m(self, mode, **kwargs)\u001b[0m\n\u001b[0;32m    <a href='file:///~/anaconda3/lib/site-packages/gym/core.py?line=293'>294</a>\u001b[0m \u001b[39mdef\u001b[39;00m \u001b[39mrender\u001b[39m(\u001b[39mself\u001b[39m, mode\u001b[39m=\u001b[39m\u001b[39m\"\u001b[39m\u001b[39mhuman\u001b[39m\u001b[39m\"\u001b[39m, \u001b[39m*\u001b[39m\u001b[39m*\u001b[39mkwargs):\n\u001b[1;32m--> <a href='file:///~/anaconda3/lib/site-packages/gym/core.py?line=294'>295</a>\u001b[0m     \u001b[39mreturn\u001b[39;00m \u001b[39mself\u001b[39;49m\u001b[39m.\u001b[39;49menv\u001b[39m.\u001b[39;49mrender(mode, \u001b[39m*\u001b[39;49m\u001b[39m*\u001b[39;49mkwargs)\n",
      "File \u001b[1;32m~\\anaconda3\\lib\\site-packages\\gym\\envs\\classic_control\\mountain_car.py:168\u001b[0m, in \u001b[0;36mMountainCarEnv.render\u001b[1;34m(self, mode)\u001b[0m\n\u001b[0;32m    <a href='file:///~/anaconda3/lib/site-packages/gym/envs/classic_control/mountain_car.py?line=162'>163</a>\u001b[0m \u001b[39mself\u001b[39m\u001b[39m.\u001b[39mcartrans\u001b[39m.\u001b[39mset_translation(\n\u001b[0;32m    <a href='file:///~/anaconda3/lib/site-packages/gym/envs/classic_control/mountain_car.py?line=163'>164</a>\u001b[0m     (pos \u001b[39m-\u001b[39m \u001b[39mself\u001b[39m\u001b[39m.\u001b[39mmin_position) \u001b[39m*\u001b[39m scale, \u001b[39mself\u001b[39m\u001b[39m.\u001b[39m_height(pos) \u001b[39m*\u001b[39m scale\n\u001b[0;32m    <a href='file:///~/anaconda3/lib/site-packages/gym/envs/classic_control/mountain_car.py?line=164'>165</a>\u001b[0m )\n\u001b[0;32m    <a href='file:///~/anaconda3/lib/site-packages/gym/envs/classic_control/mountain_car.py?line=165'>166</a>\u001b[0m \u001b[39mself\u001b[39m\u001b[39m.\u001b[39mcartrans\u001b[39m.\u001b[39mset_rotation(math\u001b[39m.\u001b[39mcos(\u001b[39m3\u001b[39m \u001b[39m*\u001b[39m pos))\n\u001b[1;32m--> <a href='file:///~/anaconda3/lib/site-packages/gym/envs/classic_control/mountain_car.py?line=167'>168</a>\u001b[0m \u001b[39mreturn\u001b[39;00m \u001b[39mself\u001b[39;49m\u001b[39m.\u001b[39;49mviewer\u001b[39m.\u001b[39;49mrender(return_rgb_array\u001b[39m=\u001b[39;49mmode \u001b[39m==\u001b[39;49m \u001b[39m\"\u001b[39;49m\u001b[39mrgb_array\u001b[39;49m\u001b[39m\"\u001b[39;49m)\n",
      "File \u001b[1;32m~\\anaconda3\\lib\\site-packages\\gym\\envs\\classic_control\\rendering.py:145\u001b[0m, in \u001b[0;36mViewer.render\u001b[1;34m(self, return_rgb_array)\u001b[0m\n\u001b[0;32m    <a href='file:///~/anaconda3/lib/site-packages/gym/envs/classic_control/rendering.py?line=142'>143</a>\u001b[0m     arr \u001b[39m=\u001b[39m arr\u001b[39m.\u001b[39mreshape(buffer\u001b[39m.\u001b[39mheight, buffer\u001b[39m.\u001b[39mwidth, \u001b[39m4\u001b[39m)\n\u001b[0;32m    <a href='file:///~/anaconda3/lib/site-packages/gym/envs/classic_control/rendering.py?line=143'>144</a>\u001b[0m     arr \u001b[39m=\u001b[39m arr[::\u001b[39m-\u001b[39m\u001b[39m1\u001b[39m, :, \u001b[39m0\u001b[39m:\u001b[39m3\u001b[39m]\n\u001b[1;32m--> <a href='file:///~/anaconda3/lib/site-packages/gym/envs/classic_control/rendering.py?line=144'>145</a>\u001b[0m \u001b[39mself\u001b[39;49m\u001b[39m.\u001b[39;49mwindow\u001b[39m.\u001b[39;49mflip()\n\u001b[0;32m    <a href='file:///~/anaconda3/lib/site-packages/gym/envs/classic_control/rendering.py?line=145'>146</a>\u001b[0m \u001b[39mself\u001b[39m\u001b[39m.\u001b[39monetime_geoms \u001b[39m=\u001b[39m []\n\u001b[0;32m    <a href='file:///~/anaconda3/lib/site-packages/gym/envs/classic_control/rendering.py?line=146'>147</a>\u001b[0m \u001b[39mreturn\u001b[39;00m arr \u001b[39mif\u001b[39;00m return_rgb_array \u001b[39melse\u001b[39;00m \u001b[39mself\u001b[39m\u001b[39m.\u001b[39misopen\n",
      "File \u001b[1;32m~\\anaconda3\\lib\\site-packages\\pyglet\\window\\win32\\__init__.py:356\u001b[0m, in \u001b[0;36mWin32Window.flip\u001b[1;34m(self)\u001b[0m\n\u001b[0;32m    <a href='file:///~/anaconda3/lib/site-packages/pyglet/window/win32/__init__.py?line=353'>354</a>\u001b[0m     \u001b[39mif\u001b[39;00m \u001b[39mself\u001b[39m\u001b[39m.\u001b[39m_always_dwm \u001b[39mor\u001b[39;00m \u001b[39mself\u001b[39m\u001b[39m.\u001b[39m_dwm_composition_enabled():\n\u001b[0;32m    <a href='file:///~/anaconda3/lib/site-packages/pyglet/window/win32/__init__.py?line=354'>355</a>\u001b[0m         \u001b[39mif\u001b[39;00m \u001b[39mself\u001b[39m\u001b[39m.\u001b[39m_interval:\n\u001b[1;32m--> <a href='file:///~/anaconda3/lib/site-packages/pyglet/window/win32/__init__.py?line=355'>356</a>\u001b[0m             _dwmapi\u001b[39m.\u001b[39;49mDwmFlush()\n\u001b[0;32m    <a href='file:///~/anaconda3/lib/site-packages/pyglet/window/win32/__init__.py?line=357'>358</a>\u001b[0m \u001b[39mself\u001b[39m\u001b[39m.\u001b[39mcontext\u001b[39m.\u001b[39mflip()\n",
      "\u001b[1;31mKeyboardInterrupt\u001b[0m: "
     ]
    }
   ],
   "source": [
    "avg_return = test_environment(env2, d2, Q_table_sarsa_2, gamma, episodes=20)\n",
    "print(avg_return)"
   ]
  },
  {
   "cell_type": "code",
   "execution_count": null,
   "metadata": {},
   "outputs": [],
   "source": []
  }
 ],
 "metadata": {
  "kernelspec": {
   "display_name": "Python 3",
   "language": "python",
   "name": "python3"
  },
  "language_info": {
   "codemirror_mode": {
    "name": "ipython",
    "version": 3
   },
   "file_extension": ".py",
   "mimetype": "text/x-python",
   "name": "python",
   "nbconvert_exporter": "python",
   "pygments_lexer": "ipython3",
   "version": "3.8.12"
  },
  "toc": {
   "base_numbering": 1,
   "nav_menu": {},
   "number_sections": true,
   "sideBar": true,
   "skip_h1_title": false,
   "title_cell": "Table of Contents",
   "title_sidebar": "Contents",
   "toc_cell": false,
   "toc_position": {},
   "toc_section_display": true,
   "toc_window_display": false
  }
 },
 "nbformat": 4,
 "nbformat_minor": 2
}
