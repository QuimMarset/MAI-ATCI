{
 "cells": [
  {
   "cell_type": "markdown",
   "metadata": {},
   "source": [
    "# Finding the optimal policy\n",
    "\n",
    "Let's try to find the optimal policy using Poicy iteration an Value iteration in a simple grid world.\n",
    "\n",
    "The world and the optimal policy to be gound are the following:\n",
    "\n",
    "<img src=\"http://www.cs.upc.edu/~mmartin/Grid+world.jpg\" width=\"350\">\n",
    "\n",
    "Next we have the implementation of the gridworld (see previous notebook for explanations)."
   ]
  },
  {
   "cell_type": "code",
   "execution_count": 1,
   "metadata": {},
   "outputs": [],
   "source": [
    "import numpy as np\n",
    "import random\n",
    "import matplotlib.pyplot as plt\n",
    "%matplotlib inline\n",
    "\n",
    "#Define the state matrix\n",
    "state_matrix = np.zeros((3,4))\n",
    "state_matrix[0, 3] = 1\n",
    "state_matrix[1, 3] = 1\n",
    "state_matrix[1, 1] = -1\n",
    "\n",
    "#Define the reward matrix\n",
    "reward_matrix = np.full((3,4), -0.04)\n",
    "reward_matrix[0, 3] = 1\n",
    "reward_matrix[1, 3] = -1\n",
    "\n",
    "transition_matrix = np.array([[0.8, 0.1, 0.0, 0.1],\n",
    "                              [0.1, 0.8, 0.1, 0.0],\n",
    "                              [0.0, 0.1, 0.8, 0.1],\n",
    "                              [0.1, 0.0, 0.1, 0.8]])\n",
    "\n",
    "gamma = 0.999\n",
    "\n",
    "def prob_next_state(position,world_row=3,world_col=4):\n",
    "    \"Given a position in the grid-world, returns a list of possible next states\"\n",
    "    posible=[]\n",
    "    for action in range(4):\n",
    "        position_def = position\n",
    "        if(action == 0): new_position = (position[0]-1, position[1])   #UP\n",
    "        elif(action == 1): new_position = (position[0], position[1]+1) #RIGHT\n",
    "        elif(action == 2): new_position = (position[0]+1, position[1]) #DOWN\n",
    "        elif(action == 3): new_position = (position[0], position[1]-1) #LEFT\n",
    "        else: raise ValueError('The action is not included in the action space.')\n",
    "\n",
    "        #Check if the new position is a valid position\n",
    "        if (new_position[0]>=0 and new_position[0]<world_row):\n",
    "            if(new_position[1]>=0 and new_position[1]<world_col):\n",
    "                if(state_matrix[new_position[0], new_position[1]] != -1):\n",
    "                    position_def = new_position\n",
    "        posible.append(position_def)\n",
    "    return posible"
   ]
  },
  {
   "cell_type": "markdown",
   "metadata": {},
   "source": [
    "Now, we refactor the policy evaluation procedure using Bellman equations that we used in the previous notebook. Notice we have two optional parameters. V is when we want to continue to use a previous V valuation of states, and randomp to determine the proportion of states that will be updated by the function:"
   ]
  },
  {
   "cell_type": "code",
   "execution_count": 12,
   "metadata": {},
   "outputs": [],
   "source": [
    "def policy_evaluation(policy_matrix, numiter, V = np.zeros((3,4)),randomp=1 ):\n",
    "    for k in range(numiter):\n",
    "        state = np.nditer(state_matrix, flags=['multi_index'])\n",
    "        #old_V = V.copy()\n",
    "        while not state.finished:\n",
    "            action = policy_matrix[state.multi_index]\n",
    "            if state[0]==0 and random.random() < randomp:\n",
    "                acum=0\n",
    "                for x in zip(prob_next_state(state.multi_index,3,4),transition_matrix[int(action),:]):\n",
    "                    acum = acum + x[1]*(reward_matrix[x[0]]+gamma*V[x[0]])\n",
    "                V[state.multi_index] = acum\n",
    "            state.iternext()\n",
    "    return V"
   ]
  },
  {
   "cell_type": "markdown",
   "metadata": {},
   "source": [
    "Auxiliar function to pretty print the policy"
   ]
  },
  {
   "cell_type": "code",
   "execution_count": 9,
   "metadata": {},
   "outputs": [],
   "source": [
    "def print_policy(policy_matrix2, V=np.array([]),lstates=[]):\n",
    "    policy_matrix = policy_matrix2[::-1]\n",
    "    shape = policy_matrix.shape\n",
    "    U=np.zeros(policy_matrix.shape)\n",
    "    R=np.zeros(policy_matrix.shape)\n",
    "    for row in range(shape[0]):\n",
    "        for col in range(shape[1]):\n",
    "            if(policy_matrix[row,col] == -1): \n",
    "                U[row,col]=0    \n",
    "                R[row,col]=0  \n",
    "            elif(policy_matrix[row,col] == 0): \n",
    "                U[row,col]=0    \n",
    "                R[row,col]=1 \n",
    "                #policy_string += \" ^  \"\n",
    "            elif(policy_matrix[row,col] == 1): \n",
    "                U[row,col]=1   \n",
    "                R[row,col]=0 \n",
    "                #policy_string += \" >  \"\n",
    "            elif(policy_matrix[row,col] == 2): \n",
    "                U[row,col]=0    \n",
    "                R[row,col]=-1 \n",
    "                #policy_string += \" v  \"           \n",
    "            elif(policy_matrix[row,col] == 3):\n",
    "                U[row,col]=-1   \n",
    "                R[row,col]=0                 \n",
    "                #policy_string += \" <  \"\n",
    "            elif(np.isnan(policy_matrix[row,col])): \n",
    "                U[row,col]=0    \n",
    "                R[row,col]=0  \n",
    "                #policy_string += \" #  \"\n",
    "    plt.rcParams['figure.figsize'] = (4,3)\n",
    "    if V.size==0:\n",
    "        V=np.ones(policy_matrix.shape)\n",
    "        for x in lstates:\n",
    "            V[x.multi_index]=0.7\n",
    "        plt.matshow(V,extent=[0, 4, 0, 3],vmin=0, vmax=1)\n",
    "    else:\n",
    "        plt.matshow(V,extent=[0, 4, 0, 3])\n",
    "    plt.grid()\n",
    "    X, Y = np.meshgrid(np.arange(0.5, 4.5, 1), np.arange(0.5, 3.5, 1))\n",
    "    Q = plt.quiver(X, Y,U,R)\n",
    "\n",
    "    plt.show()\n"
   ]
  },
  {
   "cell_type": "code",
   "execution_count": 10,
   "metadata": {},
   "outputs": [],
   "source": [
    "def return_expected_action(state):\n",
    "    \"\"\"Return the expected action.\n",
    "    \"\"\"\n",
    "    lV=[]\n",
    "    for action in range(0,4):\n",
    "        acum=0\n",
    "        for x in zip(prob_next_state(state.multi_index,3,4),transition_matrix[int(action),:]):\n",
    "            acum = acum + x[1]*(reward_matrix[x[0]]+gamma*V[x[0]])\n",
    "        lV.append(acum)\n",
    "    return np.argmax(lV)"
   ]
  },
  {
   "cell_type": "markdown",
   "metadata": {},
   "source": [
    "## Policy iteration algorithm"
   ]
  },
  {
   "cell_type": "code",
   "execution_count": 13,
   "metadata": {},
   "outputs": [
    {
     "name": "stdout",
     "output_type": "stream",
     "text": [
      "Initial policy:\n"
     ]
    },
    {
     "data": {
      "image/png": "[encoded data removed]",
      "text/plain": [
       "<Figure size 288x216 with 1 Axes>"
      ]
     },
     "metadata": {
      "needs_background": "light"
     },
     "output_type": "display_data"
    },
    {
     "name": "stdout",
     "output_type": "stream",
     "text": [
      "Update!\n"
     ]
    },
    {
     "data": {
      "image/png": "[encoded data removed]",
      "text/plain": [
       "<Figure size 288x216 with 1 Axes>"
      ]
     },
     "metadata": {
      "needs_background": "light"
     },
     "output_type": "display_data"
    },
    {
     "name": "stdout",
     "output_type": "stream",
     "text": [
      "Update!\n"
     ]
    },
    {
     "data": {
      "image/png": "[encoded data removed]",
      "text/plain": [
       "<Figure size 288x216 with 1 Axes>"
      ]
     },
     "metadata": {
      "needs_background": "light"
     },
     "output_type": "display_data"
    },
    {
     "name": "stdout",
     "output_type": "stream",
     "text": [
      "Update!\n"
     ]
    },
    {
     "data": {
      "image/png": "[encoded data removed]",
      "text/plain": [
       "<Figure size 288x216 with 1 Axes>"
      ]
     },
     "metadata": {
      "needs_background": "light"
     },
     "output_type": "display_data"
    },
    {
     "name": "stdout",
     "output_type": "stream",
     "text": [
      "Update!\n"
     ]
    },
    {
     "data": {
      "image/png": "[encoded data removed]",
      "text/plain": [
       "<Figure size 288x216 with 1 Axes>"
      ]
     },
     "metadata": {
      "needs_background": "light"
     },
     "output_type": "display_data"
    },
    {
     "name": "stdout",
     "output_type": "stream",
     "text": [
      "Update!\n"
     ]
    },
    {
     "data": {
      "image/png": "[encoded data removed]",
      "text/plain": [
       "<Figure size 288x216 with 1 Axes>"
      ]
     },
     "metadata": {
      "needs_background": "light"
     },
     "output_type": "display_data"
    },
    {
     "name": "stdout",
     "output_type": "stream",
     "text": [
      "Update!\n"
     ]
    },
    {
     "data": {
      "image/png": "[encoded data removed]",
      "text/plain": [
       "<Figure size 288x216 with 1 Axes>"
      ]
     },
     "metadata": {
      "needs_background": "light"
     },
     "output_type": "display_data"
    }
   ],
   "source": [
    "# Start with random policy\n",
    "policy_matrix = np.zeros((3,4))\n",
    "state = np.nditer(state_matrix, flags=['multi_index'])\n",
    "while not state.finished:\n",
    "    policy_matrix[state.multi_index] = np.random.choice(4, 1)\n",
    "    state.iternext()\n",
    "policy_matrix[0,3]=-1\n",
    "policy_matrix[1,3]=-1\n",
    "policy_matrix[1,1]=np.nan\n",
    "print('Initial policy:')\n",
    "print_policy(policy_matrix)\n",
    "\n",
    "\n",
    "# Enter the loop\n",
    "unchanged = False\n",
    "while not unchanged:\n",
    "    unchanged = True\n",
    "    # Policy evaluation step\n",
    "    V=policy_evaluation(policy_matrix, 100)\n",
    "    \n",
    "    # Policy improvement\n",
    "    state = np.nditer(state_matrix, flags=['multi_index'])\n",
    "    lchanged_states=[]\n",
    "    while not state.finished:\n",
    "        if state[0]==0:\n",
    "            action=return_expected_action(state)\n",
    "            if policy_matrix[state.multi_index]!=action:\n",
    "                unchanged = False\n",
    "                lchanged_states.append(state.copy())\n",
    "                policy_matrix[state.multi_index]=action\n",
    "        state.iternext()\n",
    "        \n",
    "    if not unchanged:\n",
    "        print('Update!')\n",
    "        print_policy(policy_matrix,lstates=lchanged_states)\n"
   ]
  },
  {
   "cell_type": "markdown",
   "metadata": {},
   "source": [
    "### Policy iteration without complete convergence of policy evaluation"
   ]
  },
  {
   "cell_type": "code",
   "execution_count": 14,
   "metadata": {},
   "outputs": [
    {
     "name": "stdout",
     "output_type": "stream",
     "text": [
      "Initial policy:\n"
     ]
    },
    {
     "data": {
      "image/png": "[encoded data removed]",
      "text/plain": [
       "<Figure size 288x216 with 1 Axes>"
      ]
     },
     "metadata": {
      "needs_background": "light"
     },
     "output_type": "display_data"
    },
    {
     "name": "stdout",
     "output_type": "stream",
     "text": [
      "Update in iteration 1 !\n"
     ]
    },
    {
     "data": {
      "image/png": "[encoded data removed]",
      "text/plain": [
       "<Figure size 288x216 with 1 Axes>"
      ]
     },
     "metadata": {
      "needs_background": "light"
     },
     "output_type": "display_data"
    },
    {
     "name": "stdout",
     "output_type": "stream",
     "text": [
      "Update in iteration 2 !\n"
     ]
    },
    {
     "data": {
      "image/png": "[encoded data removed]",
      "text/plain": [
       "<Figure size 288x216 with 1 Axes>"
      ]
     },
     "metadata": {
      "needs_background": "light"
     },
     "output_type": "display_data"
    },
    {
     "name": "stdout",
     "output_type": "stream",
     "text": [
      "Update in iteration 4 !\n"
     ]
    },
    {
     "data": {
      "image/png": "[encoded data removed]",
      "text/plain": [
       "<Figure size 288x216 with 1 Axes>"
      ]
     },
     "metadata": {
      "needs_background": "light"
     },
     "output_type": "display_data"
    }
   ],
   "source": [
    "# Start with random policy\n",
    "state = np.nditer(state_matrix, flags=['multi_index'])\n",
    "while not state.finished:\n",
    "    policy_matrix[state.multi_index] = np.random.choice(4, 1)\n",
    "    state.iternext()\n",
    "policy_matrix[0,3]=-1\n",
    "policy_matrix[1,3]=-1\n",
    "policy_matrix[1,1]=np.nan    \n",
    "print('Initial policy:')\n",
    "print_policy(policy_matrix)\n",
    "\n",
    "unchanged = False                              \n",
    "for k in range(1000):              # <<------ Now we cannot stop after no change in policy\n",
    "    unchanged = True\n",
    "    # Policy evaluation\n",
    "    V=policy_evaluation(policy_matrix, 1, V)   # <<------ Only 1 swap. Reuse V. \n",
    "    \n",
    "    # Policy improvement\n",
    "    state = np.nditer(state_matrix, flags=['multi_index'])\n",
    "    lchanged_states=[]\n",
    "    while not state.finished:\n",
    "        if state[0]==0:\n",
    "            action=return_expected_action(state)\n",
    "            if policy_matrix[state.multi_index]!=action:\n",
    "                unchanged = False\n",
    "                lchanged_states.append(state.copy())\n",
    "                policy_matrix[state.multi_index]=action\n",
    "        state.iternext()\n",
    "        \n",
    "    if not unchanged:\n",
    "        print('Update in iteration',k+1,'!')\n",
    "        print_policy(policy_matrix,lstates=lchanged_states)"
   ]
  },
  {
   "cell_type": "markdown",
   "metadata": {},
   "source": [
    "### Policy iteration without complete sweeps of policy inprovement"
   ]
  },
  {
   "cell_type": "code",
   "execution_count": 15,
   "metadata": {
    "scrolled": false
   },
   "outputs": [
    {
     "name": "stdout",
     "output_type": "stream",
     "text": [
      "Initial policy:\n"
     ]
    },
    {
     "data": {
      "image/png": "[encoded data removed]",
      "text/plain": [
       "<Figure size 288x216 with 1 Axes>"
      ]
     },
     "metadata": {
      "needs_background": "light"
     },
     "output_type": "display_data"
    },
    {
     "name": "stdout",
     "output_type": "stream",
     "text": [
      "Update in iteration 2 !\n"
     ]
    },
    {
     "data": {
      "image/png": "[encoded data removed]",
      "text/plain": [
       "<Figure size 288x216 with 1 Axes>"
      ]
     },
     "metadata": {
      "needs_background": "light"
     },
     "output_type": "display_data"
    },
    {
     "name": "stdout",
     "output_type": "stream",
     "text": [
      "Update in iteration 4 !\n"
     ]
    },
    {
     "data": {
      "image/png": "[encoded data removed]",
      "text/plain": [
       "<Figure size 288x216 with 1 Axes>"
      ]
     },
     "metadata": {
      "needs_background": "light"
     },
     "output_type": "display_data"
    },
    {
     "name": "stdout",
     "output_type": "stream",
     "text": [
      "Update in iteration 5 !\n"
     ]
    },
    {
     "data": {
      "image/png": "[encoded data removed]",
      "text/plain": [
       "<Figure size 288x216 with 1 Axes>"
      ]
     },
     "metadata": {
      "needs_background": "light"
     },
     "output_type": "display_data"
    },
    {
     "name": "stdout",
     "output_type": "stream",
     "text": [
      "Update in iteration 6 !\n"
     ]
    },
    {
     "data": {
      "image/png": "[encoded data removed]",
      "text/plain": [
       "<Figure size 288x216 with 1 Axes>"
      ]
     },
     "metadata": {
      "needs_background": "light"
     },
     "output_type": "display_data"
    },
    {
     "name": "stdout",
     "output_type": "stream",
     "text": [
      "Update in iteration 9 !\n"
     ]
    },
    {
     "data": {
      "image/png": "[encoded data removed]",
      "text/plain": [
       "<Figure size 288x216 with 1 Axes>"
      ]
     },
     "metadata": {
      "needs_background": "light"
     },
     "output_type": "display_data"
    },
    {
     "name": "stdout",
     "output_type": "stream",
     "text": [
      "Update in iteration 15 !\n"
     ]
    },
    {
     "data": {
      "image/png": "[encoded data removed]",
      "text/plain": [
       "<Figure size 288x216 with 1 Axes>"
      ]
     },
     "metadata": {
      "needs_background": "light"
     },
     "output_type": "display_data"
    },
    {
     "name": "stdout",
     "output_type": "stream",
     "text": [
      "Update in iteration 17 !\n"
     ]
    },
    {
     "data": {
      "image/png": "[encoded data removed]",
      "text/plain": [
       "<Figure size 288x216 with 1 Axes>"
      ]
     },
     "metadata": {
      "needs_background": "light"
     },
     "output_type": "display_data"
    },
    {
     "name": "stdout",
     "output_type": "stream",
     "text": [
      "Update in iteration 19 !\n"
     ]
    },
    {
     "data": {
      "image/png": "[encoded data removed]",
      "text/plain": [
       "<Figure size 288x216 with 1 Axes>"
      ]
     },
     "metadata": {
      "needs_background": "light"
     },
     "output_type": "display_data"
    },
    {
     "name": "stdout",
     "output_type": "stream",
     "text": [
      "Update in iteration 36 !\n"
     ]
    },
    {
     "data": {
      "image/png": "[encoded data removed]",
      "text/plain": [
       "<Figure size 288x216 with 1 Axes>"
      ]
     },
     "metadata": {
      "needs_background": "light"
     },
     "output_type": "display_data"
    }
   ],
   "source": [
    "prob_state=1/9\n",
    "# Start with random policy\n",
    "state = np.nditer(state_matrix, flags=['multi_index'])\n",
    "while not state.finished:\n",
    "    policy_matrix[state.multi_index] = np.random.choice(4, 1)\n",
    "    state.iternext()\n",
    "policy_matrix[0,3]=-1\n",
    "policy_matrix[1,3]=-1\n",
    "policy_matrix[1,1]=np.nan    \n",
    "print('Initial policy:')\n",
    "print_policy(policy_matrix)\n",
    "\n",
    "\n",
    "unchanged = False\n",
    "for k in range(1000):\n",
    "    unchanged = True\n",
    "    # Policy evaluation\n",
    "    V=policy_evaluation(policy_matrix, 1, V)\n",
    "    \n",
    "    # Policy improvement\n",
    "    state = np.nditer(state_matrix, flags=['multi_index'])\n",
    "    \n",
    "    lchanged_states=[]\n",
    "    while not state.finished:\n",
    "        if state[0]==0 and random.random() < prob_state:   # <<---- Update only some states. \n",
    "            action=return_expected_action(state)\n",
    "            if policy_matrix[state.multi_index]!=action:\n",
    "                unchanged = False\n",
    "                lchanged_states.append(state.copy())\n",
    "                policy_matrix[state.multi_index]=action\n",
    "        state.iternext()\n",
    "        \n",
    "    if not unchanged:\n",
    "        print('Update in iteration',k+1,'!')\n",
    "        print_policy(policy_matrix,lstates=lchanged_states)    \n"
   ]
  },
  {
   "cell_type": "markdown",
   "metadata": {},
   "source": [
    "### Policy iteration without complete sweeps in any loop"
   ]
  },
  {
   "cell_type": "code",
   "execution_count": 16,
   "metadata": {
    "scrolled": false
   },
   "outputs": [
    {
     "name": "stdout",
     "output_type": "stream",
     "text": [
      "Initial policy:\n"
     ]
    },
    {
     "data": {
      "image/png": "[encoded data removed]",
      "text/plain": [
       "<Figure size 288x216 with 1 Axes>"
      ]
     },
     "metadata": {
      "needs_background": "light"
     },
     "output_type": "display_data"
    },
    {
     "name": "stdout",
     "output_type": "stream",
     "text": [
      "Update in iteration 2 !\n"
     ]
    },
    {
     "data": {
      "image/png": "[encoded data removed]",
      "text/plain": [
       "<Figure size 288x216 with 1 Axes>"
      ]
     },
     "metadata": {
      "needs_background": "light"
     },
     "output_type": "display_data"
    },
    {
     "name": "stdout",
     "output_type": "stream",
     "text": [
      "Update in iteration 5 !\n"
     ]
    },
    {
     "data": {
      "image/png": "[encoded data removed]",
      "text/plain": [
       "<Figure size 288x216 with 1 Axes>"
      ]
     },
     "metadata": {
      "needs_background": "light"
     },
     "output_type": "display_data"
    },
    {
     "name": "stdout",
     "output_type": "stream",
     "text": [
      "Update in iteration 6 !\n"
     ]
    },
    {
     "data": {
      "image/png": "[encoded data removed]",
      "text/plain": [
       "<Figure size 288x216 with 1 Axes>"
      ]
     },
     "metadata": {
      "needs_background": "light"
     },
     "output_type": "display_data"
    },
    {
     "name": "stdout",
     "output_type": "stream",
     "text": [
      "Update in iteration 12 !\n"
     ]
    },
    {
     "data": {
      "image/png": "[encoded data removed]",
      "text/plain": [
       "<Figure size 288x216 with 1 Axes>"
      ]
     },
     "metadata": {
      "needs_background": "light"
     },
     "output_type": "display_data"
    },
    {
     "name": "stdout",
     "output_type": "stream",
     "text": [
      "Update in iteration 13 !\n"
     ]
    },
    {
     "data": {
      "image/png": "[encoded data removed]",
      "text/plain": [
       "<Figure size 288x216 with 1 Axes>"
      ]
     },
     "metadata": {
      "needs_background": "light"
     },
     "output_type": "display_data"
    },
    {
     "name": "stdout",
     "output_type": "stream",
     "text": [
      "Update in iteration 19 !\n"
     ]
    },
    {
     "data": {
      "image/png": "[encoded data removed]",
      "text/plain": [
       "<Figure size 288x216 with 1 Axes>"
      ]
     },
     "metadata": {
      "needs_background": "light"
     },
     "output_type": "display_data"
    },
    {
     "name": "stdout",
     "output_type": "stream",
     "text": [
      "Update in iteration 64 !\n"
     ]
    },
    {
     "data": {
      "image/png": "[encoded data removed]",
      "text/plain": [
       "<Figure size 288x216 with 1 Axes>"
      ]
     },
     "metadata": {
      "needs_background": "light"
     },
     "output_type": "display_data"
    },
    {
     "name": "stdout",
     "output_type": "stream",
     "text": [
      "\n",
      " Value function:\n",
      " [[0.84881226 0.90630541 0.95748948 0.        ]\n",
      " [0.797764   0.         0.69906187 0.        ]\n",
      " [0.7404234  0.6895106  0.64536512 0.42192624]]\n"
     ]
    }
   ],
   "source": [
    "# Start with random policy\n",
    "state = np.nditer(state_matrix, flags=['multi_index'])\n",
    "while not state.finished:\n",
    "    policy_matrix[state.multi_index] = np.random.choice(4, 1)\n",
    "    state.iternext()\n",
    "policy_matrix[0,3]=-1\n",
    "policy_matrix[1,3]=-1\n",
    "policy_matrix[1,1]=np.nan    \n",
    "print('Initial policy:')\n",
    "print_policy(policy_matrix)\n",
    "\n",
    "unchanged = False\n",
    "for k in range(10000):\n",
    "    unchanged = True\n",
    "    # Policy evaluation\n",
    "    V=policy_evaluation(policy_matrix, 1, V, randomp=1/9) # <<---- Update only some states.\n",
    "    \n",
    "    # Policy improvement\n",
    "    state = np.nditer(state_matrix, flags=['multi_index'])\n",
    "\n",
    "\n",
    "    lchanged_states=[]\n",
    "    while not state.finished:\n",
    "        if state[0]==0 and random.random() < prob_state:   # <<---- Update only some states. \n",
    "            action=return_expected_action(state)\n",
    "            if policy_matrix[state.multi_index]!=action:\n",
    "                unchanged = False\n",
    "                lchanged_states.append(state.copy())\n",
    "                policy_matrix[state.multi_index]=action\n",
    "        state.iternext()\n",
    "        \n",
    "    if not unchanged:\n",
    "        print('Update in iteration',k+1,'!')\n",
    "        print_policy(policy_matrix,lstates=lchanged_states)            \n",
    "        \n",
    "print('\\n Value function:\\n',V)"
   ]
  },
  {
   "cell_type": "markdown",
   "metadata": {},
   "source": [
    "## Value iteration"
   ]
  },
  {
   "cell_type": "code",
   "execution_count": 17,
   "metadata": {},
   "outputs": [
    {
     "name": "stdout",
     "output_type": "stream",
     "text": [
      "[[0.84881226 0.90630541 0.95748948 0.        ]\n",
      " [0.797764   0.         0.69906187 0.        ]\n",
      " [0.7404234  0.6895106  0.64536512 0.42192624]]\n"
     ]
    },
    {
     "data": {
      "image/png": "[encoded data removed]",
      "text/plain": [
       "<Figure size 288x216 with 1 Axes>"
      ]
     },
     "metadata": {
      "needs_background": "light"
     },
     "output_type": "display_data"
    }
   ],
   "source": [
    "# Value iteration\n",
    "\n",
    "V = np.zeros((3,4))\n",
    "for k in range(100):\n",
    "    unchanged = True\n",
    "\n",
    "    state = np.nditer(state_matrix, flags=['multi_index'])\n",
    "    while not state.finished:\n",
    "        if state[0]==0:\n",
    "            lV=[]\n",
    "            for action in range(0,4):\n",
    "                acum=0\n",
    "                for x in zip(prob_next_state(state.multi_index,3,4),transition_matrix[int(action),:]):\n",
    "                    acum = acum + x[1]*(reward_matrix[x[0]]+gamma*V[x[0]])\n",
    "                lV.append(acum)\n",
    "            V[state.multi_index]=max(lV)\n",
    "        state.iternext()\n",
    "        \n",
    "print(V)\n",
    "plt.matshow(V,extent=[0, 4, 0, 3])\n",
    "plt.grid()\n",
    "plt.show()"
   ]
  },
  {
   "cell_type": "code",
   "execution_count": 18,
   "metadata": {},
   "outputs": [
    {
     "data": {
      "image/png": "[encoded data removed]",
      "text/plain": [
       "<Figure size 288x216 with 1 Axes>"
      ]
     },
     "metadata": {
      "needs_background": "light"
     },
     "output_type": "display_data"
    }
   ],
   "source": [
    "state = np.nditer(state_matrix, flags=['multi_index'])\n",
    "while not state.finished:\n",
    "    if state[0]==0:\n",
    "        lV=[]\n",
    "        for action in range(0,4):\n",
    "            acum=0\n",
    "            for x in zip(prob_next_state(state.multi_index,3,4),transition_matrix[int(action),:]):\n",
    "                acum = acum + x[1]*(reward_matrix[x[0]]+gamma*V[x[0]])\n",
    "            lV.append(acum)\n",
    "        policy_matrix[state.multi_index]=np.argmax(lV)\n",
    "    state.iternext()\n",
    "    \n",
    "print_policy(policy_matrix,V)"
   ]
  },
  {
   "cell_type": "markdown",
   "metadata": {},
   "source": [
    "Try to predict optimal policy with these changes.\n",
    "\n",
    "1. Change penalty to -0,8 per step\n",
    "\n",
    "2. Try deterministic transitions\n",
    "\n",
    "3. Try the following transition matrix:\n",
    "\n",
    "transition_matrix = np.array([[0.8, 0.1, 0.0, 0.1],\n",
    "                              [0.1, 0.8, 0.1, 0.0],\n",
    "                              [0.0, 0.1, 0.8, 0.1],\n",
    "                              [0.0, 0.0, 0.5, 0.5]])\n",
    "                          \n"
   ]
  }
 ],
 "metadata": {
  "kernelspec": {
   "display_name": "Python 3",
   "language": "python",
   "name": "python3"
  },
  "language_info": {
   "codemirror_mode": {
    "name": "ipython",
    "version": 3
   },
   "file_extension": ".py",
   "mimetype": "text/x-python",
   "name": "python",
   "nbconvert_exporter": "python",
   "pygments_lexer": "ipython3",
   "version": "3.8.12"
  }
 },
 "nbformat": 4,
 "nbformat_minor": 2
}
