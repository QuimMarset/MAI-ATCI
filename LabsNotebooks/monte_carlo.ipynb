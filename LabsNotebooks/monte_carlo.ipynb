{
 "cells": [
  {
   "cell_type": "markdown",
   "metadata": {},
   "source": [
    "## Policy Evaluation\n",
    "\n",
    "Let's try to evaluate a policy using Monte Carlo and TD(0).\n",
    "\n",
    "The world and the policy are the following:\n",
    "\n",
    "<img src=\"http://www.cs.upc.edu/~mmartin/Grid+world.jpg\" width=\"350\">\n"
   ]
  },
  {
   "cell_type": "code",
   "execution_count": 1,
   "metadata": {},
   "outputs": [
    {
     "name": "stdout",
     "output_type": "stream",
     "text": [
      "State Matrix:\n",
      "[[ 0.  0.  0.  1.]\n",
      " [ 0. -1.  0.  1.]\n",
      " [ 0.  0.  0.  0.]]\n"
     ]
    }
   ],
   "source": [
    "import numpy as np\n",
    "import matplotlib.pyplot as plt\n",
    "\n",
    "#Define the state matrix\n",
    "state_matrix = np.zeros((3,4))\n",
    "state_matrix[0, 3] = 1\n",
    "state_matrix[1, 3] = 1\n",
    "state_matrix[1, 1] = -1\n",
    "print(\"State Matrix:\")\n",
    "print(state_matrix)\n"
   ]
  },
  {
   "cell_type": "code",
   "execution_count": 2,
   "metadata": {},
   "outputs": [
    {
     "name": "stdout",
     "output_type": "stream",
     "text": [
      "Reward Matrix:\n",
      "[[-0.04 -0.04 -0.04  1.  ]\n",
      " [-0.04 -0.04 -0.04 -1.  ]\n",
      " [-0.04 -0.04 -0.04 -0.04]]\n"
     ]
    },
    {
     "data": {
      "image/png": "[encoded data removed]",
      "text/plain": [
       "<Figure size 384x288 with 1 Axes>"
      ]
     },
     "metadata": {
      "needs_background": "light"
     },
     "output_type": "display_data"
    }
   ],
   "source": [
    "#Define the reward matrix\n",
    "reward_matrix = np.full((3,4), -0.04)\n",
    "reward_matrix[0, 3] = 1\n",
    "reward_matrix[1, 3] = -1\n",
    "print(\"Reward Matrix:\")\n",
    "print(reward_matrix)\n",
    "plt.matshow(reward_matrix,extent=[0, 4, 0, 3])\n",
    "plt.grid()\n",
    "plt.show()"
   ]
  },
  {
   "cell_type": "code",
   "execution_count": 3,
   "metadata": {},
   "outputs": [
    {
     "data": {
      "image/png": "[encoded data removed]",
      "text/plain": [
       "<Figure size 288x216 with 1 Axes>"
      ]
     },
     "metadata": {
      "needs_background": "light"
     },
     "output_type": "display_data"
    }
   ],
   "source": [
    "def print_policy(policy_matrix2, V=np.array([]),lstates=[]):\n",
    "    policy_matrix = policy_matrix2[::-1]\n",
    "    shape = policy_matrix.shape\n",
    "    U=np.zeros(policy_matrix.shape)\n",
    "    R=np.zeros(policy_matrix.shape)\n",
    "    for row in range(shape[0]):\n",
    "        for col in range(shape[1]):\n",
    "            if(policy_matrix[row,col] == -1): \n",
    "                U[row,col]=0    \n",
    "                R[row,col]=0  \n",
    "            elif(policy_matrix[row,col] == 0): \n",
    "                U[row,col]=0    \n",
    "                R[row,col]=1 \n",
    "                #policy_string += \" ^  \"\n",
    "            elif(policy_matrix[row,col] == 1): \n",
    "                U[row,col]=1   \n",
    "                R[row,col]=0 \n",
    "                #policy_string += \" >  \"\n",
    "            elif(policy_matrix[row,col] == 2): \n",
    "                U[row,col]=0    \n",
    "                R[row,col]=-1 \n",
    "                #policy_string += \" v  \"           \n",
    "            elif(policy_matrix[row,col] == 3):\n",
    "                U[row,col]=-1   \n",
    "                R[row,col]=0                 \n",
    "                #policy_string += \" <  \"\n",
    "            elif(np.isnan(policy_matrix[row,col])): \n",
    "                U[row,col]=0    \n",
    "                R[row,col]=0  \n",
    "                #policy_string += \" #  \"\n",
    "    plt.rcParams['figure.figsize'] = (4,3)\n",
    "    if V.size==0:\n",
    "        V=np.ones(policy_matrix.shape)\n",
    "        for x in lstates:\n",
    "            V[x[0],x[1]]=0.7\n",
    "        plt.matshow(V,extent=[0, 4, 0, 3],vmin=0, vmax=1)\n",
    "    else:\n",
    "        plt.matshow(V,extent=[0, 4, 0, 3])\n",
    "    plt.grid()\n",
    "    X, Y = np.meshgrid(np.arange(0.5, 4.5, 1), np.arange(0.5, 3.5, 1))\n",
    "    Q = plt.quiver(X, Y,U,R)\n",
    "\n",
    "    plt.show()\n",
    "\n",
    "policy_matrix = np.array([[1,      1,  1,  -1],\n",
    "                          [0, np.NaN,  0,  -1],\n",
    "                          [0,      3,  3,   3]])\n",
    "\n",
    "print_policy(policy_matrix)"
   ]
  },
  {
   "cell_type": "code",
   "execution_count": 4,
   "metadata": {},
   "outputs": [],
   "source": [
    "transition_matrix = np.array([[0.8, 0.1, 0.0, 0.1],\n",
    "                              [0.1, 0.8, 0.1, 0.0],\n",
    "                              [0.0, 0.1, 0.8, 0.1],\n",
    "                              [0.1, 0.0, 0.1, 0.8]])\n"
   ]
  },
  {
   "cell_type": "code",
   "execution_count": 5,
   "metadata": {},
   "outputs": [],
   "source": [
    "gamma = 0.999\n",
    "\n",
    "def execute_action(s1,a):\n",
    "    a=np.random.choice([0,1,2,3],p=transition_matrix[int(a)])    \n",
    "    row = s1[0]\n",
    "    col = s1[1]\n",
    "    if(a == 0): \n",
    "        new_col = col + 0\n",
    "        new_row =row - 1\n",
    "    elif(a == 1): \n",
    "        new_col =col + 1\n",
    "        new_row =row + 0\n",
    "    elif(a == 2): \n",
    "        new_col =col + 0\n",
    "        new_row =row + 1      \n",
    "    elif(a == 3):\n",
    "        new_col =col - 1\n",
    "        new_row =row + 0              \n",
    "    new_col = np.clip(new_col, 0, 3)\n",
    "    new_row = np.clip(new_row, 0, 2)\n",
    "    if state_matrix[new_row,new_col]==-1: \n",
    "        new_col = col\n",
    "        new_row = row\n",
    "    return (new_row, new_col), reward_matrix[new_row,new_col],a\n"
   ]
  },
  {
   "cell_type": "code",
   "execution_count": 7,
   "metadata": {},
   "outputs": [
    {
     "data": {
      "text/plain": [
       "([(2, 1), (2, 0), (1, 0), (0, 0), (0, 1), (0, 2)],\n",
       " [-0.04, -0.04, -0.04, -0.04, -0.04, 1.0],\n",
       " [3, 0, 0, 1, 1, 1])"
      ]
     },
     "execution_count": 7,
     "metadata": {},
     "output_type": "execute_result"
    }
   ],
   "source": [
    "def gen_trial():\n",
    "    lS=[]\n",
    "    lr=[]\n",
    "    la=[]\n",
    "    valid_start_states = [(r,c) for c in range(4) for r in range(3) if state_matrix[r][c]==0]\n",
    "    state = valid_start_states[np.random.choice(len(valid_start_states))]\n",
    "    #print_policy(policy_matrix,lstates=[state])\n",
    "    while state_matrix[state]!=1:\n",
    "        lS.append(state)\n",
    "        state,r,a=execute_action(state,policy_matrix[state])\n",
    "        lr.append(r)\n",
    "        la.append(a)\n",
    "        #print_policy(policy_matrix,lstates=[state])\n",
    "    return lS,lr,la\n",
    "gen_trial()"
   ]
  },
  {
   "cell_type": "code",
   "execution_count": 6,
   "metadata": {},
   "outputs": [],
   "source": [
    "def sum_returns(lr,i):\n",
    "    s=0\n",
    "    g=1\n",
    "    for r in range(i,len(lr)):\n",
    "        s = s+ lr[r]*g\n",
    "        g = g*gamma\n",
    "    return s\n"
   ]
  },
  {
   "cell_type": "code",
   "execution_count": 8,
   "metadata": {},
   "outputs": [
    {
     "data": {
      "image/png": "[encoded data removed]",
      "text/plain": [
       "<Figure size 288x216 with 1 Axes>"
      ]
     },
     "metadata": {
      "needs_background": "light"
     },
     "output_type": "display_data"
    },
    {
     "data": {
      "text/plain": [
       "array([[0.84101971, 0.90423289, 0.95061204, 0.        ],\n",
       "       [0.78639187, 0.        , 0.71601407, 0.        ],\n",
       "       [0.72685707, 0.67396404, 0.63786866, 0.39174654]])"
      ]
     },
     "execution_count": 8,
     "metadata": {},
     "output_type": "execute_result"
    }
   ],
   "source": [
    "# From previous notebooks\n",
    "TrueV =[[0.84881226, 0.90630541, 0.95748948, 0.],\n",
    "        [0.797764, 0., 0.69906187, 0.],\n",
    "        [0.7404234,  0.6895106,  0.64536512, 0.42192624]]\n",
    "\n",
    "# Exact Monte-Carlo First Visit\n",
    "lerror=[]\n",
    "ntrial = 1000\n",
    "V = np.zeros((3,4))\n",
    "N = np.zeros((3,4))\n",
    "for i in range(ntrial):\n",
    "    lS,lr,la = gen_trial()\n",
    "    visited = []\n",
    "    for i,s in enumerate(lS):\n",
    "        if s not in visited:\n",
    "            visited.append(s)\n",
    "            N[s] = N[s]+1\n",
    "            alpha=1/N[s]\n",
    "            V[s]=V[s]+alpha*(sum_returns(lr,i)-V[s])\n",
    "    lerror.append(np.sum(np.abs(TrueV - V)))\n",
    "\n",
    "plt.plot(lerror)\n",
    "plt.grid()\n",
    "plt.ylabel('sum of errors for all states')\n",
    "plt.xlabel('iterations')\n",
    "plt.show()\n",
    "V"
   ]
  },
  {
   "cell_type": "code",
   "execution_count": 9,
   "metadata": {},
   "outputs": [
    {
     "data": {
      "image/png": "[encoded data removed]",
      "text/plain": [
       "<Figure size 288x216 with 1 Axes>"
      ]
     },
     "metadata": {
      "needs_background": "light"
     },
     "output_type": "display_data"
    },
    {
     "data": {
      "text/plain": [
       "array([[0.83308153, 0.89249583, 0.95058926, 0.        ],\n",
       "       [0.78163478, 0.        , 0.67081435, 0.        ],\n",
       "       [0.72411334, 0.67797964, 0.63474862, 0.3342545 ]])"
      ]
     },
     "execution_count": 9,
     "metadata": {},
     "output_type": "execute_result"
    }
   ],
   "source": [
    "# Exact Monte-Carlo Every Visit\n",
    "lerror=[]\n",
    "ntrial = 1000\n",
    "V = np.zeros((3,4))\n",
    "N = np.zeros((3,4))\n",
    "for i in range(ntrial):\n",
    "    lS,lr,la = gen_trial()\n",
    "    for i,s in enumerate(lS):\n",
    "            N[s] = N[s]+1\n",
    "            alpha=1/N[s]\n",
    "            V[s]=V[s]+alpha*(sum_returns(lr,i)-V[s])\n",
    "    lerror.append(np.sum(np.abs(TrueV - V)))\n",
    "\n",
    "plt.plot(lerror)\n",
    "plt.grid()\n",
    "plt.ylabel('sum of errors for all states')\n",
    "plt.xlabel('iterations')\n",
    "plt.show()\n",
    "V"
   ]
  },
  {
   "cell_type": "code",
   "execution_count": 12,
   "metadata": {},
   "outputs": [
    {
     "name": "stdout",
     "output_type": "stream",
     "text": [
      "[[0.87309459 0.92909115 0.97631247 0.        ]\n",
      " [0.81701781 0.         0.75674276 0.        ]\n",
      " [0.77323628 0.72565935 0.69347157 0.5423808 ]] 0.1\n",
      "[[0.87108487 0.93077993 0.97761849 0.        ]\n",
      " [0.81818466 0.         0.75931705 0.        ]\n",
      " [0.75672798 0.71829599 0.67029706 0.49000201]] 0.05\n",
      "[[0.85962786 0.92183972 0.96061001 0.        ]\n",
      " [0.81905112 0.         0.50147047 0.        ]\n",
      " [0.74102555 0.66783209 0.56156055 0.23542705]] 0.01\n"
     ]
    },
    {
     "data": {
      "image/png": "[encoded data removed]",
      "text/plain": [
       "<Figure size 288x216 with 1 Axes>"
      ]
     },
     "metadata": {
      "needs_background": "light"
     },
     "output_type": "display_data"
    }
   ],
   "source": [
    "# Alpha Monte-Carlo\n",
    "for alpha in [0.1,0.05,0.01]:\n",
    "    lerror=[]\n",
    "    ntrial = 1000\n",
    "    V = np.zeros((3,4))\n",
    "    for i in range(ntrial):\n",
    "        lS,lr,la = gen_trial()\n",
    "        visited = []\n",
    "        for i,s in enumerate(lS):\n",
    "            if s not in visited:\n",
    "                visited.append(s)\n",
    "                V[s]=V[s]+alpha*(sum_returns(lr,i)-V[s])\n",
    "        lerror.append(np.sum(np.abs(TrueV - V)))\n",
    "\n",
    "    plt.plot(lerror, label=f'alpha={alpha}')\n",
    "    print(V,alpha)\n",
    "plt.grid()\n",
    "plt.legend()\n",
    "plt.ylabel('sum of errors for all states')\n",
    "plt.xlabel('iterations')\n",
    "plt.show()\n"
   ]
  },
  {
   "cell_type": "code",
   "execution_count": 13,
   "metadata": {},
   "outputs": [
    {
     "name": "stdout",
     "output_type": "stream",
     "text": [
      "[[0.84126412 0.86627844 0.9410787  0.        ]\n",
      " [0.82120759 0.         0.75233894 0.        ]\n",
      " [0.78417597 0.73437305 0.69415384 0.42900011]] 0.2\n",
      "[[0.84674246 0.90345411 0.96429626 0.        ]\n",
      " [0.8125254  0.         0.66043191 0.        ]\n",
      " [0.7649926  0.71658732 0.68147459 0.56980536]] 0.1\n",
      "[[0.87779321 0.92294548 0.97574991 0.        ]\n",
      " [0.83299321 0.         0.89130405 0.        ]\n",
      " [0.76690105 0.71078693 0.66741747 0.37277098]] 0.05\n"
     ]
    },
    {
     "data": {
      "image/png": "[encoded data removed]",
      "text/plain": [
       "<Figure size 288x216 with 1 Axes>"
      ]
     },
     "metadata": {
      "needs_background": "light"
     },
     "output_type": "display_data"
    }
   ],
   "source": [
    "# Alpha Temporal Differences\n",
    "for alpha in [0.2,0.1,0.05]:\n",
    "    lerror=[]\n",
    "    ntrial = 1000\n",
    "    V = np.zeros((3,4))\n",
    "    for i in range(ntrial):\n",
    "        lS,lr,la = gen_trial()\n",
    "        for i,s in enumerate(lS):\n",
    "            visited.append(s)\n",
    "            if i+1<len(lS):\n",
    "                V[s]=V[s]+alpha*(lr[i]+gamma*V[lS[i+1]]-V[s])\n",
    "            else:\n",
    "                V[s]=V[s]+alpha*(lr[i]-V[s])\n",
    "        lerror.append(np.sum(np.abs(TrueV - V)))\n",
    "\n",
    "    plt.plot(lerror, label=f'alpha={alpha}')\n",
    "    print(V,alpha)\n",
    "plt.grid()\n",
    "plt.legend()\n",
    "plt.ylabel('sum of errors for all states')\n",
    "plt.xlabel('iterations')\n",
    "plt.show()\n"
   ]
  },
  {
   "cell_type": "code",
   "execution_count": null,
   "metadata": {},
   "outputs": [],
   "source": []
  }
 ],
 "metadata": {
  "kernelspec": {
   "display_name": "Python 3",
   "language": "python",
   "name": "python3"
  },
  "language_info": {
   "codemirror_mode": {
    "name": "ipython",
    "version": 3
   },
   "file_extension": ".py",
   "mimetype": "text/x-python",
   "name": "python",
   "nbconvert_exporter": "python",
   "pygments_lexer": "ipython3",
   "version": "3.8.12"
  }
 },
 "nbformat": 4,
 "nbformat_minor": 2
}
